{
 "cells": [
  {
   "cell_type": "markdown",
   "id": "0265a124-87b8-4d00-a464-a43292974a65",
   "metadata": {},
   "source": [
    "# QCEW Data Importer"
   ]
  },
  {
   "cell_type": "markdown",
   "id": "ec248bf1-54ee-40c7-8302-501b5e753630",
   "metadata": {
    "jp-MarkdownHeadingCollapsed": true
   },
   "source": [
    "## Introduction"
   ]
  },
  {
   "cell_type": "markdown",
   "id": "e9df1258-4c7a-4f1a-b183-05a28a9efbdf",
   "metadata": {},
   "source": [
    "This script is meant to take Quarterly Census of Employment and Wages data to filter for 15-County region"
   ]
  },
  {
   "cell_type": "markdown",
   "id": "76a11184-b7bd-40d3-8eb0-100aa34c9067",
   "metadata": {},
   "source": [
    "### Process Outline"
   ]
  },
  {
   "cell_type": "markdown",
   "id": "47b58ed3-5121-40c9-9bb8-b32592ff2025",
   "metadata": {},
   "source": [
    "The process carried out by this workflow can be described as follows:\n",
    "  - The script will retrieve the QCEW datasets from the US Bureau of Labor Statistics\n",
    "  - For each County and year specified, a \".csv\" is created with a corresponding \".yaml\" schema and  \".yaml\" resource file"
   ]
  },
  {
   "cell_type": "markdown",
   "id": "047918d2-20c7-4666-a36b-680b748a9900",
   "metadata": {},
   "source": [
    "## Setup"
   ]
  },
  {
   "cell_type": "markdown",
   "id": "73b21b78-186c-48b4-b7be-6c732e2ed72f",
   "metadata": {},
   "source": [
    "### Import required packages"
   ]
  },
  {
   "cell_type": "code",
   "execution_count": 17,
   "id": "f3a42085-1d08-4c11-8cbc-c37ec75d7331",
   "metadata": {},
   "outputs": [],
   "source": [
    "import csv\n",
    "import os\n",
    "import urllib\n",
    "import pandas as pd\n",
    "import yaml\n",
    "from tableschema import Table\n",
    "from frictionless import Resource, validate\n",
    "import sys\n",
    "sys.path.append(os.path.normpath(\"../morpc-common\"))\n",
    "import morpc"
   ]
  },
  {
   "cell_type": "markdown",
   "id": "36172b05-77df-44c7-9655-b62f12a512a2",
   "metadata": {},
   "source": [
    "### Parameters"
   ]
  },
  {
   "cell_type": "code",
   "execution_count": 27,
   "id": "5f0e27a6-37e1-4c0d-b227-147ba9494e2d",
   "metadata": {},
   "outputs": [],
   "source": [
    "# Define input and output directories\n",
    "INPUT_DIR = \"./input_data\"\n",
    "OUTPUT_DIR = \"./output_data\"\n",
    "\n",
    "# Define years for data collection\n",
    "YEARS_PARAMETER = {\n",
    "    \"2015-2021\": [2015, 2016, 2017, 2018, 2019, 2020, 2021],\n",
    "    \"2020\":[2020],\n",
    "}\n",
    "\n",
    "# Define FIPS codes for data collection\n",
    "CONST_REGIONS_CODES = {\n",
    "    \"15-County Region\": [\"39041\", \"39045\", \"39047\", \"39049\", \"39073\", \"39083\", \"39089\", \"39091\", \"39097\", \"39101\", \"39117\", \"39127\", \"39129\", \"39141\", \"39159\"],\n",
    "}\n",
    "\n",
    "# Annual and Quarter codes for looping\n",
    "ALL_QUARTERS = {\n",
    "    \"QUARTERS\": [1, 2, 3, 4],\n",
    "    \"ANNUAL\": [\"a\"],\n",
    "}\n",
    "\n",
    "# Schemas for Annual and Quarterly QCEW data\n",
    "SCHEMA_PARAMETER = {\n",
    "    \"QUATERS\": [\n",
    "    {\"name\": \"area_fips\", \"type\": \"string\", \"description\": \"5-character FIPS code\", \"maxLength\": 5},\n",
    "    {\"name\": \"own_code\", \"type\": \"string\", \"description\": \"1-character ownership code\", \"maxLength\": 1},\n",
    "    {\"name\": \"industry_code\", \"type\": \"string\", \"description\": \"6-character industry code (NAICS, SuperSector)\", \"maxLength\": 6},\n",
    "    {\"name\": \"agglvl_code\", \"type\": \"string\", \"description\": \"2-character aggregation level code\", \"maxLength\": 2},\n",
    "    {\"name\": \"size_code\", \"type\": \"string\", \"description\": \"1-character size code\", \"maxLength\": 1},\n",
    "    {\"name\": \"year\", \"type\": \"string\", \"description\": \"4-character year\", \"maxLength\": 4},\n",
    "    {\"name\": \"qtr\", \"type\": \"string\", \"description\": \"1-character quarter (always A for annual)\", \"maxLength\": 1},\n",
    "    {\"name\": \"disclosure_code\", \"type\": \"string\", \"description\": \"1-character disclosure code (either ' ' (blank) or 'N' not disclosed)\", \"maxLength\": 1},\n",
    "    {\"name\": \"qtrly_estabs\", \"type\": \"number\", \"description\": \"Count of establishments for a given quarter\"},\n",
    "    {\"name\": \"month1_emplvl\", \"type\": \"number\", \"description\": \"Employment level for the first month of a given quarter\"},\n",
    "    {\"name\": \"month2_emplvl\", \"type\": \"number\", \"description\": \"Employment level for the second month of a given quarter\"},\n",
    "    {\"name\": \"month3_emplvl\", \"type\": \"number\", \"description\": \"Employment level for the third month of a given quarter\"},\n",
    "    {\"name\": \"total_qtrly_wages\", \"type\": \"number\", \"description\": \"Total wages for a given quarter\"},\n",
    "    {\"name\": \"taxable_qtrly_wages\", \"type\": \"number\", \"description\": \"Taxable wages for a given quarter\"},\n",
    "    {\"name\": \"qtrly_contributions\", \"type\": \"number\", \"description\": \"Quarterly contributions for a given quarter\"},\n",
    "    {\"name\": \"avg_wkly_wage\", \"type\": \"number\", \"description\": \"Average weekly wage for a given quarter\"},\n",
    "    {\"name\": \"lq_disclosure_code\", \"type\": \"string\", \"description\": \"1-character location-quotient disclosure code (either ' ' (blank) or 'N' not disclosed)\"},\n",
    "    {\"name\": \"lq_qtrly_estabs\", \"type\": \"number\", \"description\": \"Location quotient of the quarterly establishment count relative to the U.S.\"},\n",
    "    {\"name\": \"oty_disclosure_code\", \"type\": \"string\", \"description\": \"1-character over-the-year disclosure code (either ' ' (blank) or 'N' not disclosed)\"},\n",
    "    {\"name\": \"oty_qtrly_estabs_chg\", \"type\": \"number\", \"description\": \"Over-the-year change in the count of establishments for a given quarter\"},\n",
    "    {\"name\": \"oty_qtrly_estabs_pct_chg\", \"type\": \"number\", \"description\": \"Over-the-year percent change in the count of establishments for a given quarter\"},\n",
    "    {\"name\": \"oty_month1_emplvl_chg\", \"type\": \"number\", \"description\": \"Over-the-year change in the first month's employment level of a given quarter\"},\n",
    "    {\"name\": \"oty_month1_emplvl_pct_chg\", \"type\": \"number\", \"description\": \"Over-the-year percent change in the first month's employment level of a given quarter\"},\n",
    "    {\"name\": \"oty_month2_emplvl_chg\", \"type\": \"number\", \"description\": \"Over-the-year change in the second month's employment level of a given quarter\"},\n",
    "    {\"name\": \"oty_month2_emplvl_pct_chg\", \"type\": \"number\", \"description\": \"Over-the-year percent change in the second month's employment level of a given quarter (Rounded to the tenths place)\"},\n",
    "    {\"name\": \"oty_month3_emplvl_chg\", \"type\": \"number\", \"description\": \"Over-the-year change in the third month's employment level of a given quarter\"},\n",
    "    {\"name\": \"oty_month3_emplvl_pct_chg\", \"type\": \"number\", \"description\": \"Over-the-year percent change in the third month's employment level of a given quarter (Rounded to the tenths place)\"},\n",
    "    {\"name\": \"oty_total_qtrly_wages_chg\", \"type\": \"number\", \"description\": \"Over-the-year change in total quarterly wages for a given quarter\"},\n",
    "    {\"name\": \"oty_total_qtrly_wages_pct_chg\", \"type\": \"number\", \"description\": \"Over-the-year percent change in total quarterly wages for a given quarter (Rounded to the tenths place)\"},\n",
    "    {\"name\": \"oty_taxable_qtrly_wages_chg\", \"type\": \"number\", \"description\": \"Over-the-year change in taxable quarterly wages for a given quarter\"},\n",
    "    {\"name\": \"oty_taxable_qtrly_wages_pct_chg\", \"type\": \"number\", \"description\": \"Over-the-year percent change in taxable quarterly wages for a given quarter (Rounded to the tenths place)\"},\n",
    "    {\"name\": \"oty_qtrly_contributions_chg\", \"type\": \"number\", \"description\": \"Over-the-year change in quarterly contributions for a given quarter\"},\n",
    "    {\"name\": \"oty_qtrly_contributions_pct_chg\", \"type\": \"number\", \"description\": \"Over-the-year percent change in quarterly contributions for a given quarter (Rounded to the tenths place)\"},\n",
    "    {\"name\": \"oty_avg_wkly_wage_chg\", \"type\": \"number\", \"description\": \"Over-the-year change in average weekly wage for a given quarter\"},\n",
    "    {\"name\": \"oty_avg_wkly_wage_pct_chg\", \"type\": \"number\", \"description\": \"Over-the-year percent change in average weekly wage for a given quarter (Rounded to the tenths place)\"}\n",
    "],\n",
    "    \"ANNUAL\": [\n",
    "    {\"name\": \"area_fips\", \"type\": \"string\", \"description\": \"5-character FIPS code\", \"maxLength\": 5},\n",
    "    {\"name\": \"own_code\", \"type\": \"string\", \"description\": \"1-character ownership code\", \"maxLength\": 1},\n",
    "    {\"name\": \"industry_code\", \"type\": \"string\", \"description\": \"6-character industry code (NAICS, SuperSector)\", \"maxLength\": 6},\n",
    "    {\"name\": \"agglvl_code\", \"type\": \"string\", \"description\": \"2-character aggregation level code\", \"maxLength\": 2},\n",
    "    {\"name\": \"size_code\", \"type\": \"string\", \"description\": \"1-character size code\", \"maxLength\": 1},\n",
    "    {\"name\": \"year\", \"type\": \"string\", \"description\": \"4-character year\", \"maxLength\": 4},\n",
    "    {\"name\": \"qtr\", \"type\": \"string\", \"description\": \"1-character quarter (always A for annual)\", \"maxLength\": 1},\n",
    "    {\"name\": \"disclosure_code\", \"type\": \"string\", \"description\": \"1-character disclosure code (either ' ' (blank) or 'N' not disclosed)\", \"maxLength\": 1},\n",
    "    {\"name\": \"annual_avg_estabs\", \"type\": \"number\", \"description\": \"Annual average of quarterly establishment counts for a given year\"},\n",
    "    {\"name\": \"annual_avg_emplvl\", \"type\": \"number\", \"description\": \"Annual average of monthly employment levels for a given year\"},\n",
    "    {\"name\": \"total_annual_wages\", \"type\": \"number\", \"description\": \"Sum of the four quarterly total wage levels for a given year\"},\n",
    "    {\"name\": \"taxable_annual_wages\", \"type\": \"number\", \"description\": \"Sum of the four quarterly total taxable wage totals for a given year\"},\n",
    "    {\"name\": \"annual_contributions\", \"type\": \"number\", \"description\": \"Sum of the four quarterly contribution totals for a given year\"},\n",
    "    {\"name\": \"annual_avg_wkly_wage\", \"type\": \"number\", \"description\": \"Average weekly wage based on the 12-monthly employment levels and total annual wage levels\"},\n",
    "    {\"name\": \"avg_annual_pay\", \"type\": \"number\", \"description\": \"Average annual pay based on employment and wage levels for a given year\"},\n",
    "    {\"name\": \"lq_disclosure_code\", \"type\": \"string\", \"description\": \"1-character location-quotient disclosure code (either '' (blank) or 'N' not disclosed)\", \"maxLength\": 1},\n",
    "    {\"name\": \"lq_annual_avg_estabs\", \"type\": \"number\", \"description\": \"Location quotient of annual average establishment count relative to the U.S. (Rounded to the hundredths place)\"},\n",
    "    {\"name\": \"lq_annual_avg_emplvl\", \"type\": \"number\", \"description\": \"Location quotient of annual average employment relative to the U.S. (Rounded to the hundredths place)\"},\n",
    "    {\"name\": \"lq_total_annual_wages\", \"type\": \"number\", \"description\": \"Location quotient of total annual wages relative to the U.S. (Rounded to the hundredths place)\"},\n",
    "    {\"name\": \"lq_taxable_annual_wages\", \"type\": \"number\", \"description\": \"Location quotient of taxable annual wages relative to the U.S. (Rounded to the hundredths place)\"},\n",
    "    {\"name\": \"lq_annual_contributions\", \"type\": \"number\", \"description\": \"Location quotient of total annual contributions relative to the U.S. (Rounded to the hundredths place)\"},\n",
    "    {\"name\": \"lq_annual_avg_wkly_wage\", \"type\": \"number\", \"description\": \"Location quotient of annual average weekly wage relative to the U.S. (Rounded to the hundredths place)\"},\n",
    "    {\"name\": \"lq_avg_annual_pay\", \"type\": \"number\", \"description\": \"Location quotient of annual average pay relative to the U.S. (Rounded to the hundredths place)\"},\n",
    "    {\"name\": \"oty_disclosure_code\", \"type\": \"string\", \"description\": \"1-character over-the-year disclosure code (either ' ' (blank) or 'N' not disclosed)\", \"maxLength\": 1},\n",
    "    {\"name\": \"oty_annual_avg_estabs_chg\", \"type\": \"number\", \"description\": \"Over-the-year change in annual average establishments for a given year\"},\n",
    "    {\"name\": \"oty_annual_avg_estabs_pct_chg\", \"type\": \"number\", \"description\": \"Over-the-year percent change in annual average establishments for a given year (Rounded to the tenths place)\"},\n",
    "    {\"name\": \"oty_annual_avg_emplvl_chg\", \"type\": \"number\", \"description\": \"Over-the-year change in annual average employment for a given year\"},\n",
    "    {\"name\": \"oty_annual_avg_emplvl_pct_chg\", \"type\": \"number\", \"description\": \"Over-the-year percent change in annual average employment for a given year (Rounded to the tenths place)\"},\n",
    "    {\"name\": \"oty_total_annual_wages_chg\", \"type\": \"number\", \"description\": \"Over-the-year change in the total annual wages for a given year\"},\n",
    "    {\"name\": \"oty_total_annual_wages_pct_chg\", \"type\": \"number\", \"description\": \"Over-the-year percent change in total annual wages for a given year (Rounded to the tenths place)\"},\n",
    "    {\"name\": \"oty_taxable_annual_wages_chg\", \"type\": \"number\", \"description\": \"Over-the-year change in taxable annual wages for a given year\"},\n",
    "    {\"name\": \"oty_taxable_annual_wages_pct_chg\", \"type\": \"number\", \"description\": \"Over-the-year percent change in taxable annual wages for a given year (Rounded to the tenths place)\"},\n",
    "    {\"name\": \"oty_annual_contributions_chg\", \"type\": \"number\", \"description\": \"Over-the-year change in annual contributions for a given year\"},\n",
    "    {\"name\": \"oty_annual_contributions_pct_chg\", \"type\": \"number\", \"description\": \"Over-the-year percent change in annual contributions for a given year (Rounded to the tenths place)\"},\n",
    "    {\"name\": \"oty_annual_avg_wkly_wage_chg\", \"type\": \"number\", \"description\": \"Over-the-year change in annual average weekly wage for a given year\"},\n",
    "    {\"name\": \"oty_annual_avg_wkly_wage_pct_chg\", \"type\": \"number\", \"description\": \"Over-the-year percent change in annual average weekly wage for a given year (Rounded to the tenths place)\"},\n",
    "    {\"name\": \"oty_avg_annual_pay_chg\", \"type\": \"number\", \"description\": \"Over-the-year change in average annual pay for a given year\"},\n",
    "    {\"name\": \"oty_avg_annual_pay_pct_chg\", \"type\": \"number\", \"description\": \"Over-the-year percent change in average annual pay for a given year (Rounded to the tenths place)\"}\n",
    "],\n",
    "}\n",
    "\n",
    "QCEW_TABLE_DOC_URL=\"https://www.bls.gov/cew/additional-resources/open-data/csv-data-slices.htm\"\n",
    "\n",
    "\n"
   ]
  },
  {
   "cell_type": "markdown",
   "id": "0ac029a4-3143-43cf-8d2f-f07c24e5ad01",
   "metadata": {},
   "source": [
    "### Define Outputs"
   ]
  },
  {
   "cell_type": "markdown",
   "id": "c2d69206-94e8-486c-a18a-8db6020dbac4",
   "metadata": {},
   "source": [
    "Data, schema, and resource files for each county, year, and quaters selected"
   ]
  },
  {
   "cell_type": "code",
   "execution_count": 19,
   "id": "53f032f1-ffd2-4d2f-a220-a8a7fda08550",
   "metadata": {},
   "outputs": [
    {
     "name": "stdout",
     "output_type": "stream",
     "text": [
      "Data: ./output_data\\morpc-qcew_{year}_{qtr}_{region}.csv\n",
      "Schema: ./output_data\\morpc-qcew_{year}_{qtr}_{region}.schema.yaml\n",
      "Resource file: ./output_data\\morpc-qcew_{year}_{qtr}_{region}.resource.yaml\n"
     ]
    }
   ],
   "source": [
    "TEMP_TABLE_FILENAME = \"morpc-qcew_{year}_{qtr}_{region}.csv\"\n",
    "TEMP_TABLE_PATH = os.path.join(OUTPUT_DIR, TEMP_TABLE_FILENAME)\n",
    "TEMP_TABLE_SCHEMA_FILENAME = TEMP_TABLE_FILENAME.replace(\".csv\",\".schema.yaml\")\n",
    "TEMP_TABLE_SCHEMA_PATH = os.path.join(OUTPUT_DIR, TEMP_TABLE_SCHEMA_FILENAME)\n",
    "TEMP_TABLE_RESOURCE_FILENAME = TEMP_TABLE_FILENAME.replace(\".csv\",\".resource.yaml\")\n",
    "TEMP_TABLE_RESOURCE_PATH = os.path.join(OUTPUT_DIR, TEMP_TABLE_RESOURCE_FILENAME)\n",
    "print(\"Data: {}\".format(TEMP_TABLE_PATH))\n",
    "print(\"Schema: {}\".format(TEMP_TABLE_SCHEMA_PATH))\n",
    "print(\"Resource file: {}\".format(TEMP_TABLE_RESOURCE_PATH))"
   ]
  },
  {
   "cell_type": "markdown",
   "id": "a9c2a72a-9dd2-4128-ae6b-3c3323af3deb",
   "metadata": {},
   "source": [
    "### Hashcode Method"
   ]
  },
  {
   "cell_type": "code",
   "execution_count": 20,
   "id": "7defcb33-98f8-4a00-a647-c5d7e002b787",
   "metadata": {},
   "outputs": [],
   "source": [
    "import hashlib\n",
    "\n",
    "def compute_md5(file_path):\n",
    "    \"\"\"Compute MD5 hash of the specified file.\"\"\"\n",
    "    hash_md5 = hashlib.md5()\n",
    "    with open(file_path, \"rb\") as f:\n",
    "        for chunk in iter(lambda: f.read(4096), b\"\"):\n",
    "            hash_md5.update(chunk)\n",
    "    return hash_md5.hexdigest()"
   ]
  },
  {
   "cell_type": "markdown",
   "id": "fd8d42ed-2db8-4d2f-a131-684e3af59354",
   "metadata": {},
   "source": [
    "## Getting input data"
   ]
  },
  {
   "cell_type": "markdown",
   "id": "cbc21451-cd68-412a-bbc7-40b35ebf12cc",
   "metadata": {},
   "source": [
    "### Calling API and Creating Rows"
   ]
  },
  {
   "cell_type": "code",
   "execution_count": 21,
   "id": "34329eaf-2a44-4896-8fd8-6d9dee6fa160",
   "metadata": {},
   "outputs": [],
   "source": [
    "# *******************************************************************************\n",
    "# qcewCreateDataRows : This function takes a raw csv string and splits it into\n",
    "# a two-dimensional array containing the data and the header row of the csv file\n",
    "# a try/except block is used to handle for both binary and char encoding\n",
    "def qcewCreateDataRows(csv):\n",
    "    dataRows = []\n",
    "    try: dataLines = csv.decode().split('\\r\\n')\n",
    "    except er: dataLines = csv.split('\\r\\n');\n",
    "    for row in dataLines:\n",
    "        dataRows.append(row.split(','))\n",
    "    return dataRows\n",
    "# *******************************************************************************\n",
    "\n",
    "\n",
    "# *******************************************************************************\n",
    "# qcewGetAreaData : This function takes a year, quarter, and area argument and\n",
    "# returns an array containing the associated area data. Use 'a' for annual\n",
    "# averages. \n",
    "# For all area codes and titles see:\n",
    "# http://www.bls.gov/cew/doc/titles/area/area_titles.htm\n",
    "#\n",
    "def qcewGetAreaData(year,qtr,area):\n",
    "    urlPath = \"http://data.bls.gov/cew/data/api/[YEAR]/[QTR]/area/[AREA].csv\"\n",
    "    urlPath = urlPath.replace(\"[YEAR]\",year)\n",
    "    urlPath = urlPath.replace(\"[QTR]\",qtr.lower())\n",
    "    urlPath = urlPath.replace(\"[AREA]\",area.upper())\n",
    "    httpStream = urllib.request.urlopen(urlPath)\n",
    "    csv = httpStream.read()\n",
    "    httpStream.close()\n",
    "    return qcewCreateDataRows(csv)"
   ]
  },
  {
   "cell_type": "markdown",
   "id": "d0908e06-d60f-433a-95fc-76385f0828ab",
   "metadata": {},
   "source": [
    "### Creating the Schema"
   ]
  },
  {
   "cell_type": "code",
   "execution_count": 22,
   "id": "85917396-23d9-44ab-9b05-d2262d9defd8",
   "metadata": {},
   "outputs": [],
   "source": [
    "def generate_yaml_schema(schema_fields, schema_path):\n",
    "    # Manually define the schema based on the schema_fields parameter\n",
    "    schema = {\"fields\": schema_fields}\n",
    "    with open(schema_path, 'w') as f:\n",
    "        yaml.dump(schema, f, default_flow_style=False)\n",
    "    print(f\"Schema written to {schema_path}\")\n",
    "    return schema"
   ]
  },
  {
   "cell_type": "markdown",
   "id": "a047e2a3-e3ab-47cd-9cec-cab0573643bc",
   "metadata": {},
   "source": [
    "### Cleaning Dataframe"
   ]
  },
  {
   "cell_type": "code",
   "execution_count": 23,
   "id": "f7d04de9-9200-40b4-ae2e-c2f724542e54",
   "metadata": {},
   "outputs": [],
   "source": [
    "def clean_data(temp_df):\n",
    "    # Convert to DataFrame\n",
    "    temp_df = pd.DataFrame(temp_df[1:], columns=temp_df[0])\n",
    "    \n",
    "    # Clean '\"' from column names and data\n",
    "    temp_df.columns = temp_df.columns.str.replace('\"', '')\n",
    "    temp_df = temp_df.replace('\"', '', regex=True)\n",
    "    \n",
    "    # Drop the last row\n",
    "    temp_df = temp_df.drop(temp_df.index[-1])\n",
    "    return temp_df"
   ]
  },
  {
   "cell_type": "markdown",
   "id": "51a14850-34f4-482b-81ae-5ea9fa9192cf",
   "metadata": {},
   "source": [
    "### Saves data, schema, and resource files for each iteration"
   ]
  },
  {
   "cell_type": "code",
   "execution_count": 24,
   "id": "33824004-58d7-44d3-8658-548cc34863b4",
   "metadata": {},
   "outputs": [],
   "source": [
    "def exportDataResourceComponents(data, schema_fields, dataPath, schemaPath, resourcePath, year, region,qtr):\n",
    "    print(\"Writing data to {}\".format(dataPath))\n",
    "    data.to_csv(dataPath, index=False)\n",
    "    \n",
    "    # Generating schema and capturing the schema dict\n",
    "    schema_dict = generate_yaml_schema(schema_fields, schemaPath)\n",
    "    \n",
    "    acsResource = {\n",
    "      \"profile\": \"tabular-data-resource\",\n",
    "      \"name\": os.path.basename(dataPath).replace(\".csv\",\"\").lower(),\n",
    "      \"path\": os.path.basename(dataPath),\n",
    "      \"title\": f\"Quarterly Census of Employment and Wages data {year}_{region}_{qtr}\",\n",
    "      \"description\": f\"Quarterly Census of Employment and Wages data for {region} in {qtr} of {year}.\",\n",
    "      \"format\": \"csv\",\n",
    "      \"mediatype\": \"text/csv\",\n",
    "      \"encoding\": \"utf-8\",\n",
    "      \"bytes\": os.path.getsize(dataPath),\n",
    "      \"hash\": f\"md5:{compute_md5(dataPath)}\",\n",
    "      \"rows\": data.shape[0],\n",
    "      \"columns\": data.shape[1],    \n",
    "      \"schema\": schema_dict,\n",
    "      \"sources\": [{\n",
    "          \"title\": \"Quarterly Census of Employment and Wages, U.S. Bureau of Labor Statistics\",\n",
    "          \"path\": QCEW_TABLE_DOC_URL\n",
    "      }]\n",
    "    }\n",
    "\n",
    "    # Creating and saving the resource descriptor\n",
    "    resource = Resource(acsResource)\n",
    "    resource.to_yaml(resourcePath)\n",
    "    print(f\"Resource file written to {resourcePath}\")\n",
    "    \n",
    "    # Validate the resource\n",
    "    report = validate(resourcePath)\n",
    "    if report.valid:\n",
    "        print(\"Resource is valid\")\n",
    "    else:\n",
    "        print(\"ERROR: Resource is NOT valid. Errors follow:\")\n",
    "        print(report.flatten([\"code\", \"message\"]))\n",
    "        raise RuntimeError(\"Resource validation failed\")"
   ]
  },
  {
   "cell_type": "markdown",
   "id": "63835a44-dd9a-4cc3-b6fe-40c5a86b19bf",
   "metadata": {},
   "source": [
    "### Iterating through each year, region, and qtr combination"
   ]
  },
  {
   "cell_type": "code",
   "execution_count": 26,
   "id": "d2082e19-9aae-4290-b14d-bea64f93db22",
   "metadata": {},
   "outputs": [
    {
     "name": "stdout",
     "output_type": "stream",
     "text": [
      "Writing data to ./output_data\\morpc-qcew_2020_a_39041.csv\n",
      "Schema written to ./output_data\\morpc-qcew_2020_a_39041.schema.yaml\n",
      "Resource file written to ./output_data\\morpc-qcew_2020_a_39041.resource.yaml\n",
      "Resource is valid\n",
      "DONE! Year: 2020, Region Code: 39041, Quarter: a, File: ./output_data\\morpc-qcew_2020_a_39041.csv\n",
      "Writing data to ./output_data\\morpc-qcew_2020_a_39045.csv\n",
      "Schema written to ./output_data\\morpc-qcew_2020_a_39045.schema.yaml\n",
      "Resource file written to ./output_data\\morpc-qcew_2020_a_39045.resource.yaml\n",
      "Resource is valid\n",
      "DONE! Year: 2020, Region Code: 39045, Quarter: a, File: ./output_data\\morpc-qcew_2020_a_39045.csv\n",
      "Writing data to ./output_data\\morpc-qcew_2020_a_39047.csv\n",
      "Schema written to ./output_data\\morpc-qcew_2020_a_39047.schema.yaml\n",
      "Resource file written to ./output_data\\morpc-qcew_2020_a_39047.resource.yaml\n",
      "Resource is valid\n",
      "DONE! Year: 2020, Region Code: 39047, Quarter: a, File: ./output_data\\morpc-qcew_2020_a_39047.csv\n",
      "Writing data to ./output_data\\morpc-qcew_2020_a_39049.csv\n",
      "Schema written to ./output_data\\morpc-qcew_2020_a_39049.schema.yaml\n",
      "Resource file written to ./output_data\\morpc-qcew_2020_a_39049.resource.yaml\n",
      "Resource is valid\n",
      "DONE! Year: 2020, Region Code: 39049, Quarter: a, File: ./output_data\\morpc-qcew_2020_a_39049.csv\n",
      "Writing data to ./output_data\\morpc-qcew_2020_a_39073.csv\n",
      "Schema written to ./output_data\\morpc-qcew_2020_a_39073.schema.yaml\n",
      "Resource file written to ./output_data\\morpc-qcew_2020_a_39073.resource.yaml\n",
      "Resource is valid\n",
      "DONE! Year: 2020, Region Code: 39073, Quarter: a, File: ./output_data\\morpc-qcew_2020_a_39073.csv\n",
      "Writing data to ./output_data\\morpc-qcew_2020_a_39083.csv\n",
      "Schema written to ./output_data\\morpc-qcew_2020_a_39083.schema.yaml\n",
      "Resource file written to ./output_data\\morpc-qcew_2020_a_39083.resource.yaml\n",
      "Resource is valid\n",
      "DONE! Year: 2020, Region Code: 39083, Quarter: a, File: ./output_data\\morpc-qcew_2020_a_39083.csv\n",
      "Writing data to ./output_data\\morpc-qcew_2020_a_39089.csv\n",
      "Schema written to ./output_data\\morpc-qcew_2020_a_39089.schema.yaml\n",
      "Resource file written to ./output_data\\morpc-qcew_2020_a_39089.resource.yaml\n",
      "Resource is valid\n",
      "DONE! Year: 2020, Region Code: 39089, Quarter: a, File: ./output_data\\morpc-qcew_2020_a_39089.csv\n",
      "Writing data to ./output_data\\morpc-qcew_2020_a_39091.csv\n",
      "Schema written to ./output_data\\morpc-qcew_2020_a_39091.schema.yaml\n",
      "Resource file written to ./output_data\\morpc-qcew_2020_a_39091.resource.yaml\n",
      "Resource is valid\n",
      "DONE! Year: 2020, Region Code: 39091, Quarter: a, File: ./output_data\\morpc-qcew_2020_a_39091.csv\n",
      "Writing data to ./output_data\\morpc-qcew_2020_a_39097.csv\n",
      "Schema written to ./output_data\\morpc-qcew_2020_a_39097.schema.yaml\n",
      "Resource file written to ./output_data\\morpc-qcew_2020_a_39097.resource.yaml\n",
      "Resource is valid\n",
      "DONE! Year: 2020, Region Code: 39097, Quarter: a, File: ./output_data\\morpc-qcew_2020_a_39097.csv\n",
      "Writing data to ./output_data\\morpc-qcew_2020_a_39101.csv\n",
      "Schema written to ./output_data\\morpc-qcew_2020_a_39101.schema.yaml\n",
      "Resource file written to ./output_data\\morpc-qcew_2020_a_39101.resource.yaml\n",
      "Resource is valid\n",
      "DONE! Year: 2020, Region Code: 39101, Quarter: a, File: ./output_data\\morpc-qcew_2020_a_39101.csv\n",
      "Writing data to ./output_data\\morpc-qcew_2020_a_39117.csv\n",
      "Schema written to ./output_data\\morpc-qcew_2020_a_39117.schema.yaml\n",
      "Resource file written to ./output_data\\morpc-qcew_2020_a_39117.resource.yaml\n",
      "Resource is valid\n",
      "DONE! Year: 2020, Region Code: 39117, Quarter: a, File: ./output_data\\morpc-qcew_2020_a_39117.csv\n",
      "Writing data to ./output_data\\morpc-qcew_2020_a_39127.csv\n",
      "Schema written to ./output_data\\morpc-qcew_2020_a_39127.schema.yaml\n",
      "Resource file written to ./output_data\\morpc-qcew_2020_a_39127.resource.yaml\n",
      "Resource is valid\n",
      "DONE! Year: 2020, Region Code: 39127, Quarter: a, File: ./output_data\\morpc-qcew_2020_a_39127.csv\n",
      "Writing data to ./output_data\\morpc-qcew_2020_a_39129.csv\n",
      "Schema written to ./output_data\\morpc-qcew_2020_a_39129.schema.yaml\n",
      "Resource file written to ./output_data\\morpc-qcew_2020_a_39129.resource.yaml\n",
      "Resource is valid\n",
      "DONE! Year: 2020, Region Code: 39129, Quarter: a, File: ./output_data\\morpc-qcew_2020_a_39129.csv\n",
      "Writing data to ./output_data\\morpc-qcew_2020_a_39141.csv\n",
      "Schema written to ./output_data\\morpc-qcew_2020_a_39141.schema.yaml\n",
      "Resource file written to ./output_data\\morpc-qcew_2020_a_39141.resource.yaml\n",
      "Resource is valid\n",
      "DONE! Year: 2020, Region Code: 39141, Quarter: a, File: ./output_data\\morpc-qcew_2020_a_39141.csv\n",
      "Writing data to ./output_data\\morpc-qcew_2020_a_39159.csv\n",
      "Schema written to ./output_data\\morpc-qcew_2020_a_39159.schema.yaml\n",
      "Resource file written to ./output_data\\morpc-qcew_2020_a_39159.resource.yaml\n",
      "Resource is valid\n",
      "DONE! Year: 2020, Region Code: 39159, Quarter: a, File: ./output_data\\morpc-qcew_2020_a_39159.csv\n"
     ]
    }
   ],
   "source": [
    "def iterate_years_and_regions(years, regions, qtrs, schema_fields):\n",
    "    for year in years:\n",
    "        for region in regions:\n",
    "            for qtr in qtrs:\n",
    "                TEMP_TABLE_NAME = f\"morpc-qcew_{year}_{qtr}_{region}.csv\"\n",
    "                TEMP_TABLE_PATH = os.path.join(OUTPUT_DIR, TEMP_TABLE_NAME)\n",
    "                TEMP_TABLE_SCHEMA = TEMP_TABLE_NAME.replace(\".csv\",\".schema.yaml\")\n",
    "                TEMP_TABLE_SCHEMA_PATH = os.path.join(OUTPUT_DIR, TEMP_TABLE_SCHEMA)\n",
    "                TEMP_TABLE_RESOURCE_NAME = TEMP_TABLE_NAME.replace(\".csv\",\".resource.yaml\")\n",
    "                TEMP_TABLE_RESOURCE_PATH = os.path.join(OUTPUT_DIR, TEMP_TABLE_RESOURCE_NAME)\n",
    "\n",
    "                # Getting data from API\n",
    "                temp_data = qcewGetAreaData(str(year), qtr, region)\n",
    "\n",
    "                # Cleaning data\n",
    "                temp_df = clean_data(temp_data)\n",
    "\n",
    "                # Calling function to save data, schema, and resource files\n",
    "                exportDataResourceComponents(temp_df, schema_fields, TEMP_TABLE_PATH, TEMP_TABLE_SCHEMA_PATH, TEMP_TABLE_RESOURCE_PATH, year, region,qtr)\n",
    "                \n",
    "                print(f\"DONE! Year: {year}, Region Code: {region}, Quarter: {qtr}, File: {TEMP_TABLE_PATH}\")\n",
    "\n",
    "\n",
    "# For annual QCEW data: ALL_QUARTERS[\"ANNUAL\"], SCHEMA_PARAMETER[\"ANNUAL\"] \n",
    "# For quarterly QCEW data: ALL_QUARTERS[\"QUATERS\"], SCHEMA_PARAMETER[\"QUATERS\"] \n",
    "iterate_years_and_regions(YEARS_PARAMETER[\"2020\"], CONST_REGIONS_CODES[\"15-County Region\"], ALL_QUARTERS[\"ANNUAL\"], SCHEMA_PARAMETER[\"ANNUAL\"])"
   ]
  },
  {
   "cell_type": "code",
   "execution_count": null,
   "id": "bed6a838-e8c7-4af7-97bd-1397c2125f57",
   "metadata": {},
   "outputs": [],
   "source": []
  }
 ],
 "metadata": {
  "kernelspec": {
   "display_name": "Python 3 (ipykernel)",
   "language": "python",
   "name": "python3"
  },
  "language_info": {
   "codemirror_mode": {
    "name": "ipython",
    "version": 3
   },
   "file_extension": ".py",
   "mimetype": "text/x-python",
   "name": "python",
   "nbconvert_exporter": "python",
   "pygments_lexer": "ipython3",
   "version": "3.12.2"
  }
 },
 "nbformat": 4,
 "nbformat_minor": 5
}
