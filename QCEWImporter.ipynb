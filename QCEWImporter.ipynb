{
 "cells": [
  {
   "cell_type": "markdown",
   "id": "0265a124-87b8-4d00-a464-a43292974a65",
   "metadata": {},
   "source": [
    "# Quarterly Census of Employment and Wages (QCEW) Data Importer"
   ]
  },
  {
   "cell_type": "markdown",
   "id": "ec248bf1-54ee-40c7-8302-501b5e753630",
   "metadata": {},
   "source": [
    "## Introduction"
   ]
  },
  {
   "cell_type": "markdown",
   "id": "e9df1258-4c7a-4f1a-b183-05a28a9efbdf",
   "metadata": {},
   "source": [
    "This Jupyter Notebook is designed to automate the retrieval and processing of the Quarterly Census of Employment and Wages (QCEW) data, provided by the U.S. Bureau of Labor Statistics. The datasets retrieved and processed in this notebook contain detailed employment statistics, including the number of establishments, employment levels, total quarterly wages, and more, broken down by industry and ownership sectors for each county. This notebook specifically focuses on extracting data for a defined set of counties and years within a user specified lists, and either annual or quarterly data is collected based on user specification. See the Parameters section below to select the variables to be included in the extract."
   ]
  },
  {
   "cell_type": "markdown",
   "id": "76a11184-b7bd-40d3-8eb0-100aa34c9067",
   "metadata": {},
   "source": [
    "### Process Outline"
   ]
  },
  {
   "cell_type": "markdown",
   "id": "47b58ed3-5121-40c9-9bb8-b32592ff2025",
   "metadata": {},
   "source": [
    "The process carried out by this workflow can be described as follows:\n",
    "  - Users specify which years, quarters, and regions they are interested in analyzing through the script's parameter settings. \n",
    "  - The script accesses the QCEW data through the BLS' API. This interface automaticaly retrieves QCEW datasets based on specified parameters: year(s), quarter(s), and area code(s) (FIPS codes for counties).\n",
    "  - Once downloaded, the data undergoes a series of processing steps to format it correctly for analysis. This includes trimming unnecessary characters and converting data types where necessary.\n",
    "  - For each county within the specified region and for each year and/or quarter selected, the script generates a CSV file.\n",
    "  - With each CSV file, a .schema.yaml file is generated. This YAML (YAML Ain't Markup Language) file provides a human-readable schema, defining the structure, data types, and descriptions of the CSV file's columns based on the Frictionless Data specifications. This schema ensures data consistency and aids in validation.\n",
    "  - Similarly, a .resource.yaml file is created for each dataset, following the Frictionless Data Resource specification. This file includes metadata about the CSV file, such as its name, path, format, and the schema it conforms to, as well as a hash code for integrity checking. Additionally, it contains descriptive information about the dataset and references to its source.\n",
    "  - The YAML files for schemas and resource descriptors are used to make data more usable by simplifying its publication and consumption. By adhering to Frictionless standards, the script ensures that the datasets it produces are easily shareable, validatable, and integrable into a wide range of data tools and platforms."
   ]
  },
  {
   "cell_type": "markdown",
   "id": "047918d2-20c7-4666-a36b-680b748a9900",
   "metadata": {},
   "source": [
    "## Setup"
   ]
  },
  {
   "cell_type": "markdown",
   "id": "73b21b78-186c-48b4-b7be-6c732e2ed72f",
   "metadata": {},
   "source": [
    "### Import required packages"
   ]
  },
  {
   "cell_type": "code",
   "execution_count": 70,
   "id": "f3a42085-1d08-4c11-8cbc-c37ec75d7331",
   "metadata": {},
   "outputs": [],
   "source": [
    "import csv\n",
    "import os\n",
    "import urllib\n",
    "import pandas as pd\n",
    "import hashlib\n",
    "import yaml\n",
    "from tableschema import Table\n",
    "from frictionless import Resource, validate\n",
    "import sys\n",
    "sys.path.append(os.path.normpath(\"../morpc-common\"))\n",
    "import morpc"
   ]
  },
  {
   "cell_type": "markdown",
   "id": "36172b05-77df-44c7-9655-b62f12a512a2",
   "metadata": {},
   "source": [
    "### Parameters"
   ]
  },
  {
   "cell_type": "code",
   "execution_count": 39,
   "id": "5f0e27a6-37e1-4c0d-b227-147ba9494e2d",
   "metadata": {},
   "outputs": [],
   "source": [
    "# Define input and output directories\n",
    "INPUT_DIR = \"./input_data\"\n",
    "OUTPUT_DIR = \"./output_data\"\n",
    "\n",
    "# Define years for data collection\n",
    "YEARS_PARAMETER = {\n",
    "    \"2015-2021\": [2015, 2016, 2017, 2018, 2019, 2020, 2021],\n",
    "    \"2020\":[2020],\n",
    "}\n",
    "\n",
    "# Define FIPS codes for data collection\n",
    "CONST_REGIONS_CODES = {\n",
    "    \"15-County Region\": [\"39041\", \"39045\", \"39047\", \"39049\", \"39073\", \"39083\", \"39089\", \"39091\", \"39097\", \"39101\", \"39117\", \"39127\", \"39129\", \"39141\", \"39159\"],\n",
    "}\n",
    "\n",
    "# Annual and Quarter codes for looping\n",
    "ALL_QUARTERS = {\n",
    "    \"QUARTERS\": [1, 2, 3, 4],\n",
    "    \"ANNUAL\": [\"a\"],\n",
    "}\n",
    "\n",
    "# Schemas for Annual and Quarterly QCEW data\n",
    "SCHEMA_PARAMETER = {\n",
    "    \"QUATERS\": [\n",
    "    {\"name\": \"area_fips\", \"type\": \"string\", \"description\": \"5-character FIPS code\", \"maxLength\": 5},\n",
    "    {\"name\": \"own_code\", \"type\": \"string\", \"description\": \"1-character ownership code\", \"maxLength\": 1},\n",
    "    {\"name\": \"industry_code\", \"type\": \"string\", \"description\": \"6-character industry code (NAICS, SuperSector)\", \"maxLength\": 6},\n",
    "    {\"name\": \"agglvl_code\", \"type\": \"string\", \"description\": \"2-character aggregation level code\", \"maxLength\": 2},\n",
    "    {\"name\": \"size_code\", \"type\": \"string\", \"description\": \"1-character size code\", \"maxLength\": 1},\n",
    "    {\"name\": \"year\", \"type\": \"string\", \"description\": \"4-character year\", \"maxLength\": 4},\n",
    "    {\"name\": \"qtr\", \"type\": \"string\", \"description\": \"1-character quarter (always A for annual)\", \"maxLength\": 1},\n",
    "    {\"name\": \"disclosure_code\", \"type\": \"string\", \"description\": \"1-character disclosure code (either ' ' (blank) or 'N' not disclosed)\", \"maxLength\": 1},\n",
    "    {\"name\": \"qtrly_estabs\", \"type\": \"number\", \"description\": \"Count of establishments for a given quarter\"},\n",
    "    {\"name\": \"month1_emplvl\", \"type\": \"number\", \"description\": \"Employment level for the first month of a given quarter\"},\n",
    "    {\"name\": \"month2_emplvl\", \"type\": \"number\", \"description\": \"Employment level for the second month of a given quarter\"},\n",
    "    {\"name\": \"month3_emplvl\", \"type\": \"number\", \"description\": \"Employment level for the third month of a given quarter\"},\n",
    "    {\"name\": \"total_qtrly_wages\", \"type\": \"number\", \"description\": \"Total wages for a given quarter\"},\n",
    "    {\"name\": \"taxable_qtrly_wages\", \"type\": \"number\", \"description\": \"Taxable wages for a given quarter\"},\n",
    "    {\"name\": \"qtrly_contributions\", \"type\": \"number\", \"description\": \"Quarterly contributions for a given quarter\"},\n",
    "    {\"name\": \"avg_wkly_wage\", \"type\": \"number\", \"description\": \"Average weekly wage for a given quarter\"},\n",
    "    {\"name\": \"lq_disclosure_code\", \"type\": \"string\", \"description\": \"1-character location-quotient disclosure code (either ' ' (blank) or 'N' not disclosed)\"},\n",
    "    {\"name\": \"lq_qtrly_estabs\", \"type\": \"number\", \"description\": \"Location quotient of the quarterly establishment count relative to the U.S.\"},\n",
    "    {\"name\": \"oty_disclosure_code\", \"type\": \"string\", \"description\": \"1-character over-the-year disclosure code (either ' ' (blank) or 'N' not disclosed)\"},\n",
    "    {\"name\": \"oty_qtrly_estabs_chg\", \"type\": \"number\", \"description\": \"Over-the-year change in the count of establishments for a given quarter\"},\n",
    "    {\"name\": \"oty_qtrly_estabs_pct_chg\", \"type\": \"number\", \"description\": \"Over-the-year percent change in the count of establishments for a given quarter\"},\n",
    "    {\"name\": \"oty_month1_emplvl_chg\", \"type\": \"number\", \"description\": \"Over-the-year change in the first month's employment level of a given quarter\"},\n",
    "    {\"name\": \"oty_month1_emplvl_pct_chg\", \"type\": \"number\", \"description\": \"Over-the-year percent change in the first month's employment level of a given quarter\"},\n",
    "    {\"name\": \"oty_month2_emplvl_chg\", \"type\": \"number\", \"description\": \"Over-the-year change in the second month's employment level of a given quarter\"},\n",
    "    {\"name\": \"oty_month2_emplvl_pct_chg\", \"type\": \"number\", \"description\": \"Over-the-year percent change in the second month's employment level of a given quarter (Rounded to the tenths place)\"},\n",
    "    {\"name\": \"oty_month3_emplvl_chg\", \"type\": \"number\", \"description\": \"Over-the-year change in the third month's employment level of a given quarter\"},\n",
    "    {\"name\": \"oty_month3_emplvl_pct_chg\", \"type\": \"number\", \"description\": \"Over-the-year percent change in the third month's employment level of a given quarter (Rounded to the tenths place)\"},\n",
    "    {\"name\": \"oty_total_qtrly_wages_chg\", \"type\": \"number\", \"description\": \"Over-the-year change in total quarterly wages for a given quarter\"},\n",
    "    {\"name\": \"oty_total_qtrly_wages_pct_chg\", \"type\": \"number\", \"description\": \"Over-the-year percent change in total quarterly wages for a given quarter (Rounded to the tenths place)\"},\n",
    "    {\"name\": \"oty_taxable_qtrly_wages_chg\", \"type\": \"number\", \"description\": \"Over-the-year change in taxable quarterly wages for a given quarter\"},\n",
    "    {\"name\": \"oty_taxable_qtrly_wages_pct_chg\", \"type\": \"number\", \"description\": \"Over-the-year percent change in taxable quarterly wages for a given quarter (Rounded to the tenths place)\"},\n",
    "    {\"name\": \"oty_qtrly_contributions_chg\", \"type\": \"number\", \"description\": \"Over-the-year change in quarterly contributions for a given quarter\"},\n",
    "    {\"name\": \"oty_qtrly_contributions_pct_chg\", \"type\": \"number\", \"description\": \"Over-the-year percent change in quarterly contributions for a given quarter (Rounded to the tenths place)\"},\n",
    "    {\"name\": \"oty_avg_wkly_wage_chg\", \"type\": \"number\", \"description\": \"Over-the-year change in average weekly wage for a given quarter\"},\n",
    "    {\"name\": \"oty_avg_wkly_wage_pct_chg\", \"type\": \"number\", \"description\": \"Over-the-year percent change in average weekly wage for a given quarter (Rounded to the tenths place)\"}\n",
    "],\n",
    "    \"ANNUAL\": [\n",
    "    {\"name\": \"area_fips\", \"type\": \"string\", \"description\": \"5-character FIPS code\", \"maxLength\": 5},\n",
    "    {\"name\": \"own_code\", \"type\": \"string\", \"description\": \"1-character ownership code\", \"maxLength\": 1},\n",
    "    {\"name\": \"industry_code\", \"type\": \"string\", \"description\": \"6-character industry code (NAICS, SuperSector)\", \"maxLength\": 6},\n",
    "    {\"name\": \"agglvl_code\", \"type\": \"string\", \"description\": \"2-character aggregation level code\", \"maxLength\": 2},\n",
    "    {\"name\": \"size_code\", \"type\": \"string\", \"description\": \"1-character size code\", \"maxLength\": 1},\n",
    "    {\"name\": \"year\", \"type\": \"string\", \"description\": \"4-character year\", \"maxLength\": 4},\n",
    "    {\"name\": \"qtr\", \"type\": \"string\", \"description\": \"1-character quarter (always A for annual)\", \"maxLength\": 1},\n",
    "    {\"name\": \"disclosure_code\", \"type\": \"string\", \"description\": \"1-character disclosure code (either ' ' (blank) or 'N' not disclosed)\", \"maxLength\": 1},\n",
    "    {\"name\": \"annual_avg_estabs\", \"type\": \"number\", \"description\": \"Annual average of quarterly establishment counts for a given year\"},\n",
    "    {\"name\": \"annual_avg_emplvl\", \"type\": \"number\", \"description\": \"Annual average of monthly employment levels for a given year\"},\n",
    "    {\"name\": \"total_annual_wages\", \"type\": \"number\", \"description\": \"Sum of the four quarterly total wage levels for a given year\"},\n",
    "    {\"name\": \"taxable_annual_wages\", \"type\": \"number\", \"description\": \"Sum of the four quarterly total taxable wage totals for a given year\"},\n",
    "    {\"name\": \"annual_contributions\", \"type\": \"number\", \"description\": \"Sum of the four quarterly contribution totals for a given year\"},\n",
    "    {\"name\": \"annual_avg_wkly_wage\", \"type\": \"number\", \"description\": \"Average weekly wage based on the 12-monthly employment levels and total annual wage levels\"},\n",
    "    {\"name\": \"avg_annual_pay\", \"type\": \"number\", \"description\": \"Average annual pay based on employment and wage levels for a given year\"},\n",
    "    {\"name\": \"lq_disclosure_code\", \"type\": \"string\", \"description\": \"1-character location-quotient disclosure code (either '' (blank) or 'N' not disclosed)\", \"maxLength\": 1},\n",
    "    {\"name\": \"lq_annual_avg_estabs\", \"type\": \"number\", \"description\": \"Location quotient of annual average establishment count relative to the U.S. (Rounded to the hundredths place)\"},\n",
    "    {\"name\": \"lq_annual_avg_emplvl\", \"type\": \"number\", \"description\": \"Location quotient of annual average employment relative to the U.S. (Rounded to the hundredths place)\"},\n",
    "    {\"name\": \"lq_total_annual_wages\", \"type\": \"number\", \"description\": \"Location quotient of total annual wages relative to the U.S. (Rounded to the hundredths place)\"},\n",
    "    {\"name\": \"lq_taxable_annual_wages\", \"type\": \"number\", \"description\": \"Location quotient of taxable annual wages relative to the U.S. (Rounded to the hundredths place)\"},\n",
    "    {\"name\": \"lq_annual_contributions\", \"type\": \"number\", \"description\": \"Location quotient of total annual contributions relative to the U.S. (Rounded to the hundredths place)\"},\n",
    "    {\"name\": \"lq_annual_avg_wkly_wage\", \"type\": \"number\", \"description\": \"Location quotient of annual average weekly wage relative to the U.S. (Rounded to the hundredths place)\"},\n",
    "    {\"name\": \"lq_avg_annual_pay\", \"type\": \"number\", \"description\": \"Location quotient of annual average pay relative to the U.S. (Rounded to the hundredths place)\"},\n",
    "    {\"name\": \"oty_disclosure_code\", \"type\": \"string\", \"description\": \"1-character over-the-year disclosure code (either ' ' (blank) or 'N' not disclosed)\", \"maxLength\": 1},\n",
    "    {\"name\": \"oty_annual_avg_estabs_chg\", \"type\": \"number\", \"description\": \"Over-the-year change in annual average establishments for a given year\"},\n",
    "    {\"name\": \"oty_annual_avg_estabs_pct_chg\", \"type\": \"number\", \"description\": \"Over-the-year percent change in annual average establishments for a given year (Rounded to the tenths place)\"},\n",
    "    {\"name\": \"oty_annual_avg_emplvl_chg\", \"type\": \"number\", \"description\": \"Over-the-year change in annual average employment for a given year\"},\n",
    "    {\"name\": \"oty_annual_avg_emplvl_pct_chg\", \"type\": \"number\", \"description\": \"Over-the-year percent change in annual average employment for a given year (Rounded to the tenths place)\"},\n",
    "    {\"name\": \"oty_total_annual_wages_chg\", \"type\": \"number\", \"description\": \"Over-the-year change in the total annual wages for a given year\"},\n",
    "    {\"name\": \"oty_total_annual_wages_pct_chg\", \"type\": \"number\", \"description\": \"Over-the-year percent change in total annual wages for a given year (Rounded to the tenths place)\"},\n",
    "    {\"name\": \"oty_taxable_annual_wages_chg\", \"type\": \"number\", \"description\": \"Over-the-year change in taxable annual wages for a given year\"},\n",
    "    {\"name\": \"oty_taxable_annual_wages_pct_chg\", \"type\": \"number\", \"description\": \"Over-the-year percent change in taxable annual wages for a given year (Rounded to the tenths place)\"},\n",
    "    {\"name\": \"oty_annual_contributions_chg\", \"type\": \"number\", \"description\": \"Over-the-year change in annual contributions for a given year\"},\n",
    "    {\"name\": \"oty_annual_contributions_pct_chg\", \"type\": \"number\", \"description\": \"Over-the-year percent change in annual contributions for a given year (Rounded to the tenths place)\"},\n",
    "    {\"name\": \"oty_annual_avg_wkly_wage_chg\", \"type\": \"number\", \"description\": \"Over-the-year change in annual average weekly wage for a given year\"},\n",
    "    {\"name\": \"oty_annual_avg_wkly_wage_pct_chg\", \"type\": \"number\", \"description\": \"Over-the-year percent change in annual average weekly wage for a given year (Rounded to the tenths place)\"},\n",
    "    {\"name\": \"oty_avg_annual_pay_chg\", \"type\": \"number\", \"description\": \"Over-the-year change in average annual pay for a given year\"},\n",
    "    {\"name\": \"oty_avg_annual_pay_pct_chg\", \"type\": \"number\", \"description\": \"Over-the-year percent change in average annual pay for a given year (Rounded to the tenths place)\"}\n",
    "],\n",
    "}\n",
    "\n",
    "QCEW_TABLE_DOC_URL=\"https://www.bls.gov/cew/additional-resources/open-data/csv-data-slices.htm\"\n",
    "\n",
    "\n"
   ]
  },
  {
   "cell_type": "markdown",
   "id": "0ac029a4-3143-43cf-8d2f-f07c24e5ad01",
   "metadata": {},
   "source": [
    "### Define Outputs"
   ]
  },
  {
   "cell_type": "markdown",
   "id": "c2d69206-94e8-486c-a18a-8db6020dbac4",
   "metadata": {},
   "source": [
    "Data, schema, and resource files for each county, year, and quaters selected"
   ]
  },
  {
   "cell_type": "code",
   "execution_count": 56,
   "id": "53f032f1-ffd2-4d2f-a220-a8a7fda08550",
   "metadata": {},
   "outputs": [
    {
     "name": "stdout",
     "output_type": "stream",
     "text": [
      "Data: ./output_data\\morpc-qcew_{year}_{qtr}_{region}.csv\n",
      "Schema: ./output_data\\morpc-qcew_{year}_{qtr}_{region}.schema.yaml\n",
      "Resource file: ./output_data\\morpc-qcew_{year}_{qtr}_{region}.resource.yaml\n"
     ]
    }
   ],
   "source": [
    "TEMP_TABLE_FILENAME = \"morpc-qcew_{year}_{qtr}_{region}.csv\"\n",
    "TEMP_TABLE_PATH = os.path.join(OUTPUT_DIR, TEMP_TABLE_FILENAME)\n",
    "TEMP_TABLE_SCHEMA_FILENAME = TEMP_TABLE_FILENAME.replace(\".csv\",\".schema.yaml\")\n",
    "TEMP_TABLE_SCHEMA_PATH = os.path.join(OUTPUT_DIR, TEMP_TABLE_SCHEMA_FILENAME)\n",
    "TEMP_TABLE_RESOURCE_FILENAME = TEMP_TABLE_FILENAME.replace(\".csv\",\".resource.yaml\")\n",
    "TEMP_TABLE_RESOURCE_PATH = os.path.join(OUTPUT_DIR, TEMP_TABLE_RESOURCE_FILENAME)\n",
    "print(\"Data: {}\".format(TEMP_TABLE_PATH))\n",
    "print(\"Schema: {}\".format(TEMP_TABLE_SCHEMA_PATH))\n",
    "print(\"Resource file: {}\".format(TEMP_TABLE_RESOURCE_PATH))"
   ]
  },
  {
   "cell_type": "markdown",
   "id": "fd8d42ed-2db8-4d2f-a131-684e3af59354",
   "metadata": {},
   "source": [
    "## Getting input data"
   ]
  },
  {
   "cell_type": "markdown",
   "id": "cbc21451-cd68-412a-bbc7-40b35ebf12cc",
   "metadata": {},
   "source": [
    "### Calling API and Creating Rows"
   ]
  },
  {
   "cell_type": "code",
   "execution_count": 58,
   "id": "34329eaf-2a44-4896-8fd8-6d9dee6fa160",
   "metadata": {},
   "outputs": [],
   "source": [
    "# *******************************************************************************\n",
    "# qcewCreateDataRows : This function takes a raw csv string and splits it into\n",
    "# a two-dimensional array containing the data and the header row of the csv file\n",
    "# a try/except block is used to handle for both binary and char encoding\n",
    "def qcewCreateDataRows(csv):\n",
    "    dataRows = []\n",
    "    try: dataLines = csv.decode().split('\\r\\n')\n",
    "    except er: dataLines = csv.split('\\r\\n');\n",
    "    for row in dataLines:\n",
    "        dataRows.append(row.split(','))\n",
    "    return dataRows\n",
    "# *******************************************************************************\n",
    "\n",
    "\n",
    "# *******************************************************************************\n",
    "# qcewGetAreaData : This function takes a year, quarter, and area argument and\n",
    "# returns an array containing the associated area data. Use 'a' for annual\n",
    "# averages. \n",
    "# For all area codes and titles see:\n",
    "# http://www.bls.gov/cew/doc/titles/area/area_titles.htm\n",
    "#\n",
    "def qcewGetAreaData(year,qtr,area):\n",
    "    urlPath = \"http://data.bls.gov/cew/data/api/[YEAR]/[QTR]/area/[AREA].csv\"\n",
    "    urlPath = urlPath.replace(\"[YEAR]\",year)\n",
    "    urlPath = urlPath.replace(\"[QTR]\",qtr.lower())\n",
    "    urlPath = urlPath.replace(\"[AREA]\",area.upper())\n",
    "    httpStream = urllib.request.urlopen(urlPath)\n",
    "    csv = httpStream.read()\n",
    "    httpStream.close()\n",
    "    return qcewCreateDataRows(csv)"
   ]
  },
  {
   "cell_type": "markdown",
   "id": "d0908e06-d60f-433a-95fc-76385f0828ab",
   "metadata": {},
   "source": [
    "### Creating the Schema"
   ]
  },
  {
   "cell_type": "code",
   "execution_count": 59,
   "id": "85917396-23d9-44ab-9b05-d2262d9defd8",
   "metadata": {},
   "outputs": [],
   "source": [
    "def generate_yaml_schema(schema_fields, schema_path):\n",
    "    # Manually define the schema based on the schema_fields parameter\n",
    "    schema = {\"fields\": schema_fields}\n",
    "    with open(schema_path, 'w') as f:\n",
    "        yaml.dump(schema, f, default_flow_style=False)\n",
    "    print(f\"Schema written to {schema_path}\")\n",
    "    return schema"
   ]
  },
  {
   "cell_type": "markdown",
   "id": "a047e2a3-e3ab-47cd-9cec-cab0573643bc",
   "metadata": {},
   "source": [
    "### Cleaning Dataframe"
   ]
  },
  {
   "cell_type": "code",
   "execution_count": 60,
   "id": "f7d04de9-9200-40b4-ae2e-c2f724542e54",
   "metadata": {},
   "outputs": [],
   "source": [
    "def clean_data(temp_df):\n",
    "    # Convert to DataFrame\n",
    "    temp_df = pd.DataFrame(temp_df[1:], columns=temp_df[0])\n",
    "    \n",
    "    # Clean '\"' from column names and data\n",
    "    temp_df.columns = temp_df.columns.str.replace('\"', '')\n",
    "    temp_df = temp_df.replace('\"', '', regex=True)\n",
    "    \n",
    "    # Drop the last row\n",
    "    temp_df = temp_df.drop(temp_df.index[-1])\n",
    "    return temp_df"
   ]
  },
  {
   "cell_type": "markdown",
   "id": "441fcc2b-75a9-4d5d-8987-bcb183754c2b",
   "metadata": {},
   "source": [
    "### Creating data, schema, and resource file paths"
   ]
  },
  {
   "cell_type": "code",
   "execution_count": 67,
   "id": "44f3c451-cfce-4381-9f99-daec853fecba",
   "metadata": {},
   "outputs": [],
   "source": [
    "def createFiles(year, qtr, region):\n",
    "    TEMP_TABLE_NAME = f\"morpc-qcew_{year}_{qtr}_{region}.csv\"\n",
    "    TEMP_TABLE_PATH = os.path.join(OUTPUT_DIR, TEMP_TABLE_NAME)\n",
    "    TEMP_TABLE_SCHEMA = TEMP_TABLE_NAME.replace(\".csv\", \".schema.yaml\")\n",
    "    TEMP_TABLE_SCHEMA_PATH = os.path.join(OUTPUT_DIR, TEMP_TABLE_SCHEMA)\n",
    "    TEMP_TABLE_RESOURCE_NAME = f\"morpc-qcew_{year}_{qtr}_{region}.resource.yaml\"\n",
    "    TEMP_TABLE_RESOURCE_PATH = os.path.join(OUTPUT_DIR, TEMP_TABLE_RESOURCE_NAME)\n",
    "    print(\"Data: {}\".format(TEMP_TABLE_PATH))\n",
    "    print(\"Schema: {}\".format(TEMP_TABLE_SCHEMA_PATH))\n",
    "    print(\"Resource file: {}\".format(TEMP_TABLE_RESOURCE_PATH))\n",
    "    \n",
    "    # Return paths\n",
    "    return {\n",
    "        \"data_path\": TEMP_TABLE_PATH,\n",
    "        \"schema_path\": TEMP_TABLE_SCHEMA_PATH,\n",
    "        \"resource_path\": TEMP_TABLE_RESOURCE_PATH,\n",
    "    }  "
   ]
  },
  {
   "cell_type": "markdown",
   "id": "51a14850-34f4-482b-81ae-5ea9fa9192cf",
   "metadata": {},
   "source": [
    "### Saves data, schema, and resource files for each iteration"
   ]
  },
  {
   "cell_type": "code",
   "execution_count": 62,
   "id": "33824004-58d7-44d3-8658-548cc34863b4",
   "metadata": {},
   "outputs": [],
   "source": [
    "def exportDataResourceComponents(data, schema_fields, dataPath, schemaPath, resourcePath, year, region,qtr):\n",
    "    print(\"Writing data to {}\".format(dataPath))\n",
    "    data.to_csv(dataPath, index=False)\n",
    "    \n",
    "    # Generating schema and capturing the schema dict\n",
    "    schema_dict = generate_yaml_schema(schema_fields, schemaPath)\n",
    "    \n",
    "    acsResource = {\n",
    "      \"profile\": \"tabular-data-resource\",\n",
    "      \"name\": os.path.basename(dataPath).replace(\".csv\",\"\").lower(),\n",
    "      \"path\": os.path.basename(dataPath),\n",
    "      \"title\": f\"Quarterly Census of Employment and Wages data {year}_{region}_{qtr}\",\n",
    "      \"description\": f\"Quarterly Census of Employment and Wages data for {region} in {qtr} of {year}.\",\n",
    "      \"format\": \"csv\",\n",
    "      \"mediatype\": \"text/csv\",\n",
    "      \"encoding\": \"utf-8\",\n",
    "      \"bytes\": os.path.getsize(dataPath),\n",
    "      \"hash\": morpc.md5(dataPath),\n",
    "      \"rows\": data.shape[0],\n",
    "      \"columns\": data.shape[1],    \n",
    "      \"schema\": schema_dict,\n",
    "      \"sources\": [{\n",
    "          \"title\": \"Quarterly Census of Employment and Wages, U.S. Bureau of Labor Statistics\",\n",
    "          \"path\": QCEW_TABLE_DOC_URL\n",
    "      }]\n",
    "    }\n",
    "\n",
    "    # Creating and saving the resource descriptor\n",
    "    resource = Resource(acsResource)\n",
    "    resource.to_yaml(resourcePath)\n",
    "    print(f\"Resource file written to {resourcePath}\")\n",
    "    \n",
    "    # Validate the resource\n",
    "    report = validate(resourcePath)\n",
    "    if report.valid:\n",
    "        print(\"Resource is valid\")\n",
    "    else:\n",
    "        print(\"ERROR: Resource is NOT valid. Errors follow:\")\n",
    "        print(report.flatten([\"code\", \"message\"]))\n",
    "        raise RuntimeError(\"Resource validation failed\")"
   ]
  },
  {
   "cell_type": "markdown",
   "id": "63835a44-dd9a-4cc3-b6fe-40c5a86b19bf",
   "metadata": {},
   "source": [
    "### Iterating through each year, region, and qtr combination"
   ]
  },
  {
   "cell_type": "code",
   "execution_count": 71,
   "id": "d2082e19-9aae-4290-b14d-bea64f93db22",
   "metadata": {},
   "outputs": [
    {
     "name": "stdout",
     "output_type": "stream",
     "text": [
      "Data: ./output_data\\morpc-qcew_2020_a_39041.csv\n",
      "Schema: ./output_data\\morpc-qcew_2020_a_39041.schema.yaml\n",
      "Resource file: ./output_data\\morpc-qcew_2020_a_39041.resource.yaml\n",
      "Writing data to ./output_data\\morpc-qcew_2020_a_39041.csv\n",
      "Schema written to ./output_data\\morpc-qcew_2020_a_39041.schema.yaml\n",
      "Resource file written to ./output_data\\morpc-qcew_2020_a_39041.resource.yaml\n",
      "Resource is valid\n",
      "Data: ./output_data\\morpc-qcew_2020_a_39045.csv\n",
      "Schema: ./output_data\\morpc-qcew_2020_a_39045.schema.yaml\n",
      "Resource file: ./output_data\\morpc-qcew_2020_a_39045.resource.yaml\n",
      "Writing data to ./output_data\\morpc-qcew_2020_a_39045.csv\n",
      "Schema written to ./output_data\\morpc-qcew_2020_a_39045.schema.yaml\n",
      "Resource file written to ./output_data\\morpc-qcew_2020_a_39045.resource.yaml\n",
      "Resource is valid\n",
      "Data: ./output_data\\morpc-qcew_2020_a_39047.csv\n",
      "Schema: ./output_data\\morpc-qcew_2020_a_39047.schema.yaml\n",
      "Resource file: ./output_data\\morpc-qcew_2020_a_39047.resource.yaml\n",
      "Writing data to ./output_data\\morpc-qcew_2020_a_39047.csv\n",
      "Schema written to ./output_data\\morpc-qcew_2020_a_39047.schema.yaml\n",
      "Resource file written to ./output_data\\morpc-qcew_2020_a_39047.resource.yaml\n",
      "Resource is valid\n",
      "Data: ./output_data\\morpc-qcew_2020_a_39049.csv\n",
      "Schema: ./output_data\\morpc-qcew_2020_a_39049.schema.yaml\n",
      "Resource file: ./output_data\\morpc-qcew_2020_a_39049.resource.yaml\n",
      "Writing data to ./output_data\\morpc-qcew_2020_a_39049.csv\n",
      "Schema written to ./output_data\\morpc-qcew_2020_a_39049.schema.yaml\n",
      "Resource file written to ./output_data\\morpc-qcew_2020_a_39049.resource.yaml\n",
      "Resource is valid\n",
      "Data: ./output_data\\morpc-qcew_2020_a_39073.csv\n",
      "Schema: ./output_data\\morpc-qcew_2020_a_39073.schema.yaml\n",
      "Resource file: ./output_data\\morpc-qcew_2020_a_39073.resource.yaml\n"
     ]
    },
    {
     "ename": "KeyboardInterrupt",
     "evalue": "",
     "output_type": "error",
     "traceback": [
      "\u001b[1;31m---------------------------------------------------------------------------\u001b[0m",
      "\u001b[1;31mTimeoutError\u001b[0m                              Traceback (most recent call last)",
      "File \u001b[1;32mC:\\Program Files\\WindowsApps\\PythonSoftwareFoundation.Python.3.12_3.12.752.0_x64__qbz5n2kfra8p0\\Lib\\socket.py:837\u001b[0m, in \u001b[0;36mcreate_connection\u001b[1;34m(address, timeout, source_address, all_errors)\u001b[0m\n\u001b[0;32m    836\u001b[0m     sock\u001b[38;5;241m.\u001b[39mbind(source_address)\n\u001b[1;32m--> 837\u001b[0m \u001b[43msock\u001b[49m\u001b[38;5;241;43m.\u001b[39;49m\u001b[43mconnect\u001b[49m\u001b[43m(\u001b[49m\u001b[43msa\u001b[49m\u001b[43m)\u001b[49m\n\u001b[0;32m    838\u001b[0m \u001b[38;5;66;03m# Break explicitly a reference cycle\u001b[39;00m\n",
      "\u001b[1;31mTimeoutError\u001b[0m: [WinError 10060] A connection attempt failed because the connected party did not properly respond after a period of time, or established connection failed because connected host has failed to respond",
      "\nDuring handling of the above exception, another exception occurred:\n",
      "\u001b[1;31mKeyboardInterrupt\u001b[0m                         Traceback (most recent call last)",
      "Cell \u001b[1;32mIn[71], line 22\u001b[0m\n\u001b[0;32m     16\u001b[0m                 exportDataResourceComponents(temp_df, schema_fields, paths[\u001b[38;5;124m\"\u001b[39m\u001b[38;5;124mdata_path\u001b[39m\u001b[38;5;124m\"\u001b[39m], paths[\u001b[38;5;124m\"\u001b[39m\u001b[38;5;124mschema_path\u001b[39m\u001b[38;5;124m\"\u001b[39m], paths[\u001b[38;5;124m\"\u001b[39m\u001b[38;5;124mresource_path\u001b[39m\u001b[38;5;124m\"\u001b[39m], year, region,qtr)\n\u001b[0;32m     19\u001b[0m \u001b[38;5;66;03m###########################################################################\u001b[39;00m\n\u001b[0;32m     20\u001b[0m \u001b[38;5;66;03m# For annual QCEW data: ALL_QUARTERS[\"ANNUAL\"], SCHEMA_PARAMETER[\"ANNUAL\"] \u001b[39;00m\n\u001b[0;32m     21\u001b[0m \u001b[38;5;66;03m# For quarterly QCEW data: ALL_QUARTERS[\"QUATERS\"], SCHEMA_PARAMETER[\"QUATERS\"] \u001b[39;00m\n\u001b[1;32m---> 22\u001b[0m \u001b[43miterate_years_and_regions\u001b[49m\u001b[43m(\u001b[49m\u001b[43mYEARS_PARAMETER\u001b[49m\u001b[43m[\u001b[49m\u001b[38;5;124;43m\"\u001b[39;49m\u001b[38;5;124;43m2020\u001b[39;49m\u001b[38;5;124;43m\"\u001b[39;49m\u001b[43m]\u001b[49m\u001b[43m,\u001b[49m\u001b[43m \u001b[49m\u001b[43mCONST_REGIONS_CODES\u001b[49m\u001b[43m[\u001b[49m\u001b[38;5;124;43m\"\u001b[39;49m\u001b[38;5;124;43m15-County Region\u001b[39;49m\u001b[38;5;124;43m\"\u001b[39;49m\u001b[43m]\u001b[49m\u001b[43m,\u001b[49m\u001b[43m \u001b[49m\u001b[43mALL_QUARTERS\u001b[49m\u001b[43m[\u001b[49m\u001b[38;5;124;43m\"\u001b[39;49m\u001b[38;5;124;43mANNUAL\u001b[39;49m\u001b[38;5;124;43m\"\u001b[39;49m\u001b[43m]\u001b[49m\u001b[43m,\u001b[49m\u001b[43m \u001b[49m\u001b[43mSCHEMA_PARAMETER\u001b[49m\u001b[43m[\u001b[49m\u001b[38;5;124;43m\"\u001b[39;49m\u001b[38;5;124;43mANNUAL\u001b[39;49m\u001b[38;5;124;43m\"\u001b[39;49m\u001b[43m]\u001b[49m\u001b[43m)\u001b[49m\n\u001b[0;32m     23\u001b[0m \u001b[38;5;28mprint\u001b[39m(\u001b[38;5;124m\"\u001b[39m\u001b[38;5;124mDONE!\u001b[39m\u001b[38;5;124m\"\u001b[39m)\n",
      "Cell \u001b[1;32mIn[71], line 10\u001b[0m, in \u001b[0;36miterate_years_and_regions\u001b[1;34m(years, regions, qtrs, schema_fields)\u001b[0m\n\u001b[0;32m      7\u001b[0m paths \u001b[38;5;241m=\u001b[39m createFiles(year, qtr, region)\n\u001b[0;32m      9\u001b[0m \u001b[38;5;66;03m# Getting data from API\u001b[39;00m\n\u001b[1;32m---> 10\u001b[0m temp_data \u001b[38;5;241m=\u001b[39m \u001b[43mqcewGetAreaData\u001b[49m\u001b[43m(\u001b[49m\u001b[38;5;28;43mstr\u001b[39;49m\u001b[43m(\u001b[49m\u001b[43myear\u001b[49m\u001b[43m)\u001b[49m\u001b[43m,\u001b[49m\u001b[43m \u001b[49m\u001b[43mqtr\u001b[49m\u001b[43m,\u001b[49m\u001b[43m \u001b[49m\u001b[43mregion\u001b[49m\u001b[43m)\u001b[49m\n\u001b[0;32m     12\u001b[0m \u001b[38;5;66;03m# Cleaning data\u001b[39;00m\n\u001b[0;32m     13\u001b[0m temp_df \u001b[38;5;241m=\u001b[39m clean_data(temp_data)\n",
      "Cell \u001b[1;32mIn[58], line 27\u001b[0m, in \u001b[0;36mqcewGetAreaData\u001b[1;34m(year, qtr, area)\u001b[0m\n\u001b[0;32m     25\u001b[0m urlPath \u001b[38;5;241m=\u001b[39m urlPath\u001b[38;5;241m.\u001b[39mreplace(\u001b[38;5;124m\"\u001b[39m\u001b[38;5;124m[QTR]\u001b[39m\u001b[38;5;124m\"\u001b[39m,qtr\u001b[38;5;241m.\u001b[39mlower())\n\u001b[0;32m     26\u001b[0m urlPath \u001b[38;5;241m=\u001b[39m urlPath\u001b[38;5;241m.\u001b[39mreplace(\u001b[38;5;124m\"\u001b[39m\u001b[38;5;124m[AREA]\u001b[39m\u001b[38;5;124m\"\u001b[39m,area\u001b[38;5;241m.\u001b[39mupper())\n\u001b[1;32m---> 27\u001b[0m httpStream \u001b[38;5;241m=\u001b[39m \u001b[43murllib\u001b[49m\u001b[38;5;241;43m.\u001b[39;49m\u001b[43mrequest\u001b[49m\u001b[38;5;241;43m.\u001b[39;49m\u001b[43murlopen\u001b[49m\u001b[43m(\u001b[49m\u001b[43murlPath\u001b[49m\u001b[43m)\u001b[49m\n\u001b[0;32m     28\u001b[0m csv \u001b[38;5;241m=\u001b[39m httpStream\u001b[38;5;241m.\u001b[39mread()\n\u001b[0;32m     29\u001b[0m httpStream\u001b[38;5;241m.\u001b[39mclose()\n",
      "File \u001b[1;32mC:\\Program Files\\WindowsApps\\PythonSoftwareFoundation.Python.3.12_3.12.752.0_x64__qbz5n2kfra8p0\\Lib\\urllib\\request.py:215\u001b[0m, in \u001b[0;36murlopen\u001b[1;34m(url, data, timeout, cafile, capath, cadefault, context)\u001b[0m\n\u001b[0;32m    213\u001b[0m \u001b[38;5;28;01melse\u001b[39;00m:\n\u001b[0;32m    214\u001b[0m     opener \u001b[38;5;241m=\u001b[39m _opener\n\u001b[1;32m--> 215\u001b[0m \u001b[38;5;28;01mreturn\u001b[39;00m \u001b[43mopener\u001b[49m\u001b[38;5;241;43m.\u001b[39;49m\u001b[43mopen\u001b[49m\u001b[43m(\u001b[49m\u001b[43murl\u001b[49m\u001b[43m,\u001b[49m\u001b[43m \u001b[49m\u001b[43mdata\u001b[49m\u001b[43m,\u001b[49m\u001b[43m \u001b[49m\u001b[43mtimeout\u001b[49m\u001b[43m)\u001b[49m\n",
      "File \u001b[1;32mC:\\Program Files\\WindowsApps\\PythonSoftwareFoundation.Python.3.12_3.12.752.0_x64__qbz5n2kfra8p0\\Lib\\urllib\\request.py:515\u001b[0m, in \u001b[0;36mOpenerDirector.open\u001b[1;34m(self, fullurl, data, timeout)\u001b[0m\n\u001b[0;32m    512\u001b[0m     req \u001b[38;5;241m=\u001b[39m meth(req)\n\u001b[0;32m    514\u001b[0m sys\u001b[38;5;241m.\u001b[39maudit(\u001b[38;5;124m'\u001b[39m\u001b[38;5;124murllib.Request\u001b[39m\u001b[38;5;124m'\u001b[39m, req\u001b[38;5;241m.\u001b[39mfull_url, req\u001b[38;5;241m.\u001b[39mdata, req\u001b[38;5;241m.\u001b[39mheaders, req\u001b[38;5;241m.\u001b[39mget_method())\n\u001b[1;32m--> 515\u001b[0m response \u001b[38;5;241m=\u001b[39m \u001b[38;5;28;43mself\u001b[39;49m\u001b[38;5;241;43m.\u001b[39;49m\u001b[43m_open\u001b[49m\u001b[43m(\u001b[49m\u001b[43mreq\u001b[49m\u001b[43m,\u001b[49m\u001b[43m \u001b[49m\u001b[43mdata\u001b[49m\u001b[43m)\u001b[49m\n\u001b[0;32m    517\u001b[0m \u001b[38;5;66;03m# post-process response\u001b[39;00m\n\u001b[0;32m    518\u001b[0m meth_name \u001b[38;5;241m=\u001b[39m protocol\u001b[38;5;241m+\u001b[39m\u001b[38;5;124m\"\u001b[39m\u001b[38;5;124m_response\u001b[39m\u001b[38;5;124m\"\u001b[39m\n",
      "File \u001b[1;32mC:\\Program Files\\WindowsApps\\PythonSoftwareFoundation.Python.3.12_3.12.752.0_x64__qbz5n2kfra8p0\\Lib\\urllib\\request.py:532\u001b[0m, in \u001b[0;36mOpenerDirector._open\u001b[1;34m(self, req, data)\u001b[0m\n\u001b[0;32m    529\u001b[0m     \u001b[38;5;28;01mreturn\u001b[39;00m result\n\u001b[0;32m    531\u001b[0m protocol \u001b[38;5;241m=\u001b[39m req\u001b[38;5;241m.\u001b[39mtype\n\u001b[1;32m--> 532\u001b[0m result \u001b[38;5;241m=\u001b[39m \u001b[38;5;28;43mself\u001b[39;49m\u001b[38;5;241;43m.\u001b[39;49m\u001b[43m_call_chain\u001b[49m\u001b[43m(\u001b[49m\u001b[38;5;28;43mself\u001b[39;49m\u001b[38;5;241;43m.\u001b[39;49m\u001b[43mhandle_open\u001b[49m\u001b[43m,\u001b[49m\u001b[43m \u001b[49m\u001b[43mprotocol\u001b[49m\u001b[43m,\u001b[49m\u001b[43m \u001b[49m\u001b[43mprotocol\u001b[49m\u001b[43m \u001b[49m\u001b[38;5;241;43m+\u001b[39;49m\n\u001b[0;32m    533\u001b[0m \u001b[43m                          \u001b[49m\u001b[38;5;124;43m'\u001b[39;49m\u001b[38;5;124;43m_open\u001b[39;49m\u001b[38;5;124;43m'\u001b[39;49m\u001b[43m,\u001b[49m\u001b[43m \u001b[49m\u001b[43mreq\u001b[49m\u001b[43m)\u001b[49m\n\u001b[0;32m    534\u001b[0m \u001b[38;5;28;01mif\u001b[39;00m result:\n\u001b[0;32m    535\u001b[0m     \u001b[38;5;28;01mreturn\u001b[39;00m result\n",
      "File \u001b[1;32mC:\\Program Files\\WindowsApps\\PythonSoftwareFoundation.Python.3.12_3.12.752.0_x64__qbz5n2kfra8p0\\Lib\\urllib\\request.py:492\u001b[0m, in \u001b[0;36mOpenerDirector._call_chain\u001b[1;34m(self, chain, kind, meth_name, *args)\u001b[0m\n\u001b[0;32m    490\u001b[0m \u001b[38;5;28;01mfor\u001b[39;00m handler \u001b[38;5;129;01min\u001b[39;00m handlers:\n\u001b[0;32m    491\u001b[0m     func \u001b[38;5;241m=\u001b[39m \u001b[38;5;28mgetattr\u001b[39m(handler, meth_name)\n\u001b[1;32m--> 492\u001b[0m     result \u001b[38;5;241m=\u001b[39m \u001b[43mfunc\u001b[49m\u001b[43m(\u001b[49m\u001b[38;5;241;43m*\u001b[39;49m\u001b[43margs\u001b[49m\u001b[43m)\u001b[49m\n\u001b[0;32m    493\u001b[0m     \u001b[38;5;28;01mif\u001b[39;00m result \u001b[38;5;129;01mis\u001b[39;00m \u001b[38;5;129;01mnot\u001b[39;00m \u001b[38;5;28;01mNone\u001b[39;00m:\n\u001b[0;32m    494\u001b[0m         \u001b[38;5;28;01mreturn\u001b[39;00m result\n",
      "File \u001b[1;32mC:\\Program Files\\WindowsApps\\PythonSoftwareFoundation.Python.3.12_3.12.752.0_x64__qbz5n2kfra8p0\\Lib\\urllib\\request.py:1373\u001b[0m, in \u001b[0;36mHTTPHandler.http_open\u001b[1;34m(self, req)\u001b[0m\n\u001b[0;32m   1372\u001b[0m \u001b[38;5;28;01mdef\u001b[39;00m \u001b[38;5;21mhttp_open\u001b[39m(\u001b[38;5;28mself\u001b[39m, req):\n\u001b[1;32m-> 1373\u001b[0m     \u001b[38;5;28;01mreturn\u001b[39;00m \u001b[38;5;28;43mself\u001b[39;49m\u001b[38;5;241;43m.\u001b[39;49m\u001b[43mdo_open\u001b[49m\u001b[43m(\u001b[49m\u001b[43mhttp\u001b[49m\u001b[38;5;241;43m.\u001b[39;49m\u001b[43mclient\u001b[49m\u001b[38;5;241;43m.\u001b[39;49m\u001b[43mHTTPConnection\u001b[49m\u001b[43m,\u001b[49m\u001b[43m \u001b[49m\u001b[43mreq\u001b[49m\u001b[43m)\u001b[49m\n",
      "File \u001b[1;32mC:\\Program Files\\WindowsApps\\PythonSoftwareFoundation.Python.3.12_3.12.752.0_x64__qbz5n2kfra8p0\\Lib\\urllib\\request.py:1344\u001b[0m, in \u001b[0;36mAbstractHTTPHandler.do_open\u001b[1;34m(self, http_class, req, **http_conn_args)\u001b[0m\n\u001b[0;32m   1342\u001b[0m \u001b[38;5;28;01mtry\u001b[39;00m:\n\u001b[0;32m   1343\u001b[0m     \u001b[38;5;28;01mtry\u001b[39;00m:\n\u001b[1;32m-> 1344\u001b[0m         \u001b[43mh\u001b[49m\u001b[38;5;241;43m.\u001b[39;49m\u001b[43mrequest\u001b[49m\u001b[43m(\u001b[49m\u001b[43mreq\u001b[49m\u001b[38;5;241;43m.\u001b[39;49m\u001b[43mget_method\u001b[49m\u001b[43m(\u001b[49m\u001b[43m)\u001b[49m\u001b[43m,\u001b[49m\u001b[43m \u001b[49m\u001b[43mreq\u001b[49m\u001b[38;5;241;43m.\u001b[39;49m\u001b[43mselector\u001b[49m\u001b[43m,\u001b[49m\u001b[43m \u001b[49m\u001b[43mreq\u001b[49m\u001b[38;5;241;43m.\u001b[39;49m\u001b[43mdata\u001b[49m\u001b[43m,\u001b[49m\u001b[43m \u001b[49m\u001b[43mheaders\u001b[49m\u001b[43m,\u001b[49m\n\u001b[0;32m   1345\u001b[0m \u001b[43m                  \u001b[49m\u001b[43mencode_chunked\u001b[49m\u001b[38;5;241;43m=\u001b[39;49m\u001b[43mreq\u001b[49m\u001b[38;5;241;43m.\u001b[39;49m\u001b[43mhas_header\u001b[49m\u001b[43m(\u001b[49m\u001b[38;5;124;43m'\u001b[39;49m\u001b[38;5;124;43mTransfer-encoding\u001b[39;49m\u001b[38;5;124;43m'\u001b[39;49m\u001b[43m)\u001b[49m\u001b[43m)\u001b[49m\n\u001b[0;32m   1346\u001b[0m     \u001b[38;5;28;01mexcept\u001b[39;00m \u001b[38;5;167;01mOSError\u001b[39;00m \u001b[38;5;28;01mas\u001b[39;00m err: \u001b[38;5;66;03m# timeout error\u001b[39;00m\n\u001b[0;32m   1347\u001b[0m         \u001b[38;5;28;01mraise\u001b[39;00m URLError(err)\n",
      "File \u001b[1;32mC:\\Program Files\\WindowsApps\\PythonSoftwareFoundation.Python.3.12_3.12.752.0_x64__qbz5n2kfra8p0\\Lib\\http\\client.py:1331\u001b[0m, in \u001b[0;36mHTTPConnection.request\u001b[1;34m(self, method, url, body, headers, encode_chunked)\u001b[0m\n\u001b[0;32m   1328\u001b[0m \u001b[38;5;28;01mdef\u001b[39;00m \u001b[38;5;21mrequest\u001b[39m(\u001b[38;5;28mself\u001b[39m, method, url, body\u001b[38;5;241m=\u001b[39m\u001b[38;5;28;01mNone\u001b[39;00m, headers\u001b[38;5;241m=\u001b[39m{}, \u001b[38;5;241m*\u001b[39m,\n\u001b[0;32m   1329\u001b[0m             encode_chunked\u001b[38;5;241m=\u001b[39m\u001b[38;5;28;01mFalse\u001b[39;00m):\n\u001b[0;32m   1330\u001b[0m \u001b[38;5;250m    \u001b[39m\u001b[38;5;124;03m\"\"\"Send a complete request to the server.\"\"\"\u001b[39;00m\n\u001b[1;32m-> 1331\u001b[0m     \u001b[38;5;28;43mself\u001b[39;49m\u001b[38;5;241;43m.\u001b[39;49m\u001b[43m_send_request\u001b[49m\u001b[43m(\u001b[49m\u001b[43mmethod\u001b[49m\u001b[43m,\u001b[49m\u001b[43m \u001b[49m\u001b[43murl\u001b[49m\u001b[43m,\u001b[49m\u001b[43m \u001b[49m\u001b[43mbody\u001b[49m\u001b[43m,\u001b[49m\u001b[43m \u001b[49m\u001b[43mheaders\u001b[49m\u001b[43m,\u001b[49m\u001b[43m \u001b[49m\u001b[43mencode_chunked\u001b[49m\u001b[43m)\u001b[49m\n",
      "File \u001b[1;32mC:\\Program Files\\WindowsApps\\PythonSoftwareFoundation.Python.3.12_3.12.752.0_x64__qbz5n2kfra8p0\\Lib\\http\\client.py:1377\u001b[0m, in \u001b[0;36mHTTPConnection._send_request\u001b[1;34m(self, method, url, body, headers, encode_chunked)\u001b[0m\n\u001b[0;32m   1373\u001b[0m \u001b[38;5;28;01mif\u001b[39;00m \u001b[38;5;28misinstance\u001b[39m(body, \u001b[38;5;28mstr\u001b[39m):\n\u001b[0;32m   1374\u001b[0m     \u001b[38;5;66;03m# RFC 2616 Section 3.7.1 says that text default has a\u001b[39;00m\n\u001b[0;32m   1375\u001b[0m     \u001b[38;5;66;03m# default charset of iso-8859-1.\u001b[39;00m\n\u001b[0;32m   1376\u001b[0m     body \u001b[38;5;241m=\u001b[39m _encode(body, \u001b[38;5;124m'\u001b[39m\u001b[38;5;124mbody\u001b[39m\u001b[38;5;124m'\u001b[39m)\n\u001b[1;32m-> 1377\u001b[0m \u001b[38;5;28;43mself\u001b[39;49m\u001b[38;5;241;43m.\u001b[39;49m\u001b[43mendheaders\u001b[49m\u001b[43m(\u001b[49m\u001b[43mbody\u001b[49m\u001b[43m,\u001b[49m\u001b[43m \u001b[49m\u001b[43mencode_chunked\u001b[49m\u001b[38;5;241;43m=\u001b[39;49m\u001b[43mencode_chunked\u001b[49m\u001b[43m)\u001b[49m\n",
      "File \u001b[1;32mC:\\Program Files\\WindowsApps\\PythonSoftwareFoundation.Python.3.12_3.12.752.0_x64__qbz5n2kfra8p0\\Lib\\http\\client.py:1326\u001b[0m, in \u001b[0;36mHTTPConnection.endheaders\u001b[1;34m(self, message_body, encode_chunked)\u001b[0m\n\u001b[0;32m   1324\u001b[0m \u001b[38;5;28;01melse\u001b[39;00m:\n\u001b[0;32m   1325\u001b[0m     \u001b[38;5;28;01mraise\u001b[39;00m CannotSendHeader()\n\u001b[1;32m-> 1326\u001b[0m \u001b[38;5;28;43mself\u001b[39;49m\u001b[38;5;241;43m.\u001b[39;49m\u001b[43m_send_output\u001b[49m\u001b[43m(\u001b[49m\u001b[43mmessage_body\u001b[49m\u001b[43m,\u001b[49m\u001b[43m \u001b[49m\u001b[43mencode_chunked\u001b[49m\u001b[38;5;241;43m=\u001b[39;49m\u001b[43mencode_chunked\u001b[49m\u001b[43m)\u001b[49m\n",
      "File \u001b[1;32mC:\\Program Files\\WindowsApps\\PythonSoftwareFoundation.Python.3.12_3.12.752.0_x64__qbz5n2kfra8p0\\Lib\\http\\client.py:1085\u001b[0m, in \u001b[0;36mHTTPConnection._send_output\u001b[1;34m(self, message_body, encode_chunked)\u001b[0m\n\u001b[0;32m   1083\u001b[0m msg \u001b[38;5;241m=\u001b[39m \u001b[38;5;124mb\u001b[39m\u001b[38;5;124m\"\u001b[39m\u001b[38;5;130;01m\\r\u001b[39;00m\u001b[38;5;130;01m\\n\u001b[39;00m\u001b[38;5;124m\"\u001b[39m\u001b[38;5;241m.\u001b[39mjoin(\u001b[38;5;28mself\u001b[39m\u001b[38;5;241m.\u001b[39m_buffer)\n\u001b[0;32m   1084\u001b[0m \u001b[38;5;28;01mdel\u001b[39;00m \u001b[38;5;28mself\u001b[39m\u001b[38;5;241m.\u001b[39m_buffer[:]\n\u001b[1;32m-> 1085\u001b[0m \u001b[38;5;28;43mself\u001b[39;49m\u001b[38;5;241;43m.\u001b[39;49m\u001b[43msend\u001b[49m\u001b[43m(\u001b[49m\u001b[43mmsg\u001b[49m\u001b[43m)\u001b[49m\n\u001b[0;32m   1087\u001b[0m \u001b[38;5;28;01mif\u001b[39;00m message_body \u001b[38;5;129;01mis\u001b[39;00m \u001b[38;5;129;01mnot\u001b[39;00m \u001b[38;5;28;01mNone\u001b[39;00m:\n\u001b[0;32m   1088\u001b[0m \n\u001b[0;32m   1089\u001b[0m     \u001b[38;5;66;03m# create a consistent interface to message_body\u001b[39;00m\n\u001b[0;32m   1090\u001b[0m     \u001b[38;5;28;01mif\u001b[39;00m \u001b[38;5;28mhasattr\u001b[39m(message_body, \u001b[38;5;124m'\u001b[39m\u001b[38;5;124mread\u001b[39m\u001b[38;5;124m'\u001b[39m):\n\u001b[0;32m   1091\u001b[0m         \u001b[38;5;66;03m# Let file-like take precedence over byte-like.  This\u001b[39;00m\n\u001b[0;32m   1092\u001b[0m         \u001b[38;5;66;03m# is needed to allow the current position of mmap'ed\u001b[39;00m\n\u001b[0;32m   1093\u001b[0m         \u001b[38;5;66;03m# files to be taken into account.\u001b[39;00m\n",
      "File \u001b[1;32mC:\\Program Files\\WindowsApps\\PythonSoftwareFoundation.Python.3.12_3.12.752.0_x64__qbz5n2kfra8p0\\Lib\\http\\client.py:1029\u001b[0m, in \u001b[0;36mHTTPConnection.send\u001b[1;34m(self, data)\u001b[0m\n\u001b[0;32m   1027\u001b[0m \u001b[38;5;28;01mif\u001b[39;00m \u001b[38;5;28mself\u001b[39m\u001b[38;5;241m.\u001b[39msock \u001b[38;5;129;01mis\u001b[39;00m \u001b[38;5;28;01mNone\u001b[39;00m:\n\u001b[0;32m   1028\u001b[0m     \u001b[38;5;28;01mif\u001b[39;00m \u001b[38;5;28mself\u001b[39m\u001b[38;5;241m.\u001b[39mauto_open:\n\u001b[1;32m-> 1029\u001b[0m         \u001b[38;5;28;43mself\u001b[39;49m\u001b[38;5;241;43m.\u001b[39;49m\u001b[43mconnect\u001b[49m\u001b[43m(\u001b[49m\u001b[43m)\u001b[49m\n\u001b[0;32m   1030\u001b[0m     \u001b[38;5;28;01melse\u001b[39;00m:\n\u001b[0;32m   1031\u001b[0m         \u001b[38;5;28;01mraise\u001b[39;00m NotConnected()\n",
      "File \u001b[1;32mC:\\Program Files\\WindowsApps\\PythonSoftwareFoundation.Python.3.12_3.12.752.0_x64__qbz5n2kfra8p0\\Lib\\http\\client.py:995\u001b[0m, in \u001b[0;36mHTTPConnection.connect\u001b[1;34m(self)\u001b[0m\n\u001b[0;32m    993\u001b[0m \u001b[38;5;250m\u001b[39m\u001b[38;5;124;03m\"\"\"Connect to the host and port specified in __init__.\"\"\"\u001b[39;00m\n\u001b[0;32m    994\u001b[0m sys\u001b[38;5;241m.\u001b[39maudit(\u001b[38;5;124m\"\u001b[39m\u001b[38;5;124mhttp.client.connect\u001b[39m\u001b[38;5;124m\"\u001b[39m, \u001b[38;5;28mself\u001b[39m, \u001b[38;5;28mself\u001b[39m\u001b[38;5;241m.\u001b[39mhost, \u001b[38;5;28mself\u001b[39m\u001b[38;5;241m.\u001b[39mport)\n\u001b[1;32m--> 995\u001b[0m \u001b[38;5;28mself\u001b[39m\u001b[38;5;241m.\u001b[39msock \u001b[38;5;241m=\u001b[39m \u001b[38;5;28;43mself\u001b[39;49m\u001b[38;5;241;43m.\u001b[39;49m\u001b[43m_create_connection\u001b[49m\u001b[43m(\u001b[49m\n\u001b[0;32m    996\u001b[0m \u001b[43m    \u001b[49m\u001b[43m(\u001b[49m\u001b[38;5;28;43mself\u001b[39;49m\u001b[38;5;241;43m.\u001b[39;49m\u001b[43mhost\u001b[49m\u001b[43m,\u001b[49m\u001b[38;5;28;43mself\u001b[39;49m\u001b[38;5;241;43m.\u001b[39;49m\u001b[43mport\u001b[49m\u001b[43m)\u001b[49m\u001b[43m,\u001b[49m\u001b[43m \u001b[49m\u001b[38;5;28;43mself\u001b[39;49m\u001b[38;5;241;43m.\u001b[39;49m\u001b[43mtimeout\u001b[49m\u001b[43m,\u001b[49m\u001b[43m \u001b[49m\u001b[38;5;28;43mself\u001b[39;49m\u001b[38;5;241;43m.\u001b[39;49m\u001b[43msource_address\u001b[49m\u001b[43m)\u001b[49m\n\u001b[0;32m    997\u001b[0m \u001b[38;5;66;03m# Might fail in OSs that don't implement TCP_NODELAY\u001b[39;00m\n\u001b[0;32m    998\u001b[0m \u001b[38;5;28;01mtry\u001b[39;00m:\n",
      "File \u001b[1;32mC:\\Program Files\\WindowsApps\\PythonSoftwareFoundation.Python.3.12_3.12.752.0_x64__qbz5n2kfra8p0\\Lib\\socket.py:844\u001b[0m, in \u001b[0;36mcreate_connection\u001b[1;34m(address, timeout, source_address, all_errors)\u001b[0m\n\u001b[0;32m    842\u001b[0m \u001b[38;5;28;01mexcept\u001b[39;00m error \u001b[38;5;28;01mas\u001b[39;00m exc:\n\u001b[0;32m    843\u001b[0m     \u001b[38;5;28;01mif\u001b[39;00m \u001b[38;5;129;01mnot\u001b[39;00m all_errors:\n\u001b[1;32m--> 844\u001b[0m         \u001b[43mexceptions\u001b[49m\u001b[38;5;241;43m.\u001b[39;49m\u001b[43mclear\u001b[49m\u001b[43m(\u001b[49m\u001b[43m)\u001b[49m  \u001b[38;5;66;03m# raise only the last error\u001b[39;00m\n\u001b[0;32m    845\u001b[0m     exceptions\u001b[38;5;241m.\u001b[39mappend(exc)\n\u001b[0;32m    846\u001b[0m     \u001b[38;5;28;01mif\u001b[39;00m sock \u001b[38;5;129;01mis\u001b[39;00m \u001b[38;5;129;01mnot\u001b[39;00m \u001b[38;5;28;01mNone\u001b[39;00m:\n",
      "\u001b[1;31mKeyboardInterrupt\u001b[0m: "
     ]
    }
   ],
   "source": [
    "def iterate_years_and_regions(years, regions, qtrs, schema_fields):\n",
    "    for year in years:\n",
    "        for region in regions:\n",
    "            for qtr in qtrs:\n",
    "\n",
    "                # Receive paths from createFiles\n",
    "                paths = createFiles(year, qtr, region)\n",
    "\n",
    "                # Getting data from API\n",
    "                temp_data = qcewGetAreaData(str(year), qtr, region)\n",
    "\n",
    "                # Cleaning data\n",
    "                temp_df = clean_data(temp_data)\n",
    "\n",
    "                # Calling function to save data, schema, and resource files\n",
    "                exportDataResourceComponents(temp_df, schema_fields, paths[\"data_path\"], paths[\"schema_path\"], paths[\"resource_path\"], year, region,qtr)\n",
    "\n",
    "\n",
    "###########################################################################\n",
    "# For annual QCEW data: ALL_QUARTERS[\"ANNUAL\"], SCHEMA_PARAMETER[\"ANNUAL\"] \n",
    "# For quarterly QCEW data: ALL_QUARTERS[\"QUATERS\"], SCHEMA_PARAMETER[\"QUATERS\"] \n",
    "iterate_years_and_regions(YEARS_PARAMETER[\"2020\"], CONST_REGIONS_CODES[\"15-County Region\"], ALL_QUARTERS[\"ANNUAL\"], SCHEMA_PARAMETER[\"ANNUAL\"])\n",
    "print(\"DONE!\")"
   ]
  },
  {
   "cell_type": "code",
   "execution_count": null,
   "id": "bed6a838-e8c7-4af7-97bd-1397c2125f57",
   "metadata": {},
   "outputs": [],
   "source": []
  }
 ],
 "metadata": {
  "kernelspec": {
   "display_name": "Python 3 (ipykernel)",
   "language": "python",
   "name": "python3"
  },
  "language_info": {
   "codemirror_mode": {
    "name": "ipython",
    "version": 3
   },
   "file_extension": ".py",
   "mimetype": "text/x-python",
   "name": "python",
   "nbconvert_exporter": "python",
   "pygments_lexer": "ipython3",
   "version": "3.12.2"
  }
 },
 "nbformat": 4,
 "nbformat_minor": 5
}
